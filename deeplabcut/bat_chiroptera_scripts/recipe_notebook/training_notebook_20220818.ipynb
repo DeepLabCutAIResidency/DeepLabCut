{
 "cells": [
  {
   "cell_type": "markdown",
   "metadata": {},
   "source": [
    "# Improving network performance via augmentation\n",
    "__Author:__ Jonas Bengt Carina Håkansson\n",
    "\n",
    "__Date:__ 20220818"
   ]
  },
  {
   "cell_type": "markdown",
   "metadata": {},
   "source": [
    "## The dataset\n",
    "This data was filmed at the Austin Bat Refuge [link] by Dr. Aaron Corcoran in 2020. It comprises blabla"
   ]
  },
  {
   "cell_type": "markdown",
   "metadata": {},
   "source": [
    "## Creating the DeepLabCut project\n",
    "We start by defining the path we will be working in. Then we create the project."
   ]
  },
  {
   "cell_type": "code",
   "execution_count": 3,
   "metadata": {},
   "outputs": [
    {
     "name": "stderr",
     "output_type": "stream",
     "text": [
      "2022-08-18 14:43:21.758398: I tensorflow/core/util/util.cc:169] oneDNN custom operations are on. You may see slightly different numerical results due to floating-point round-off errors from different computation orders. To turn them off, set the environment variable `TF_ENABLE_ONEDNN_OPTS=0`.\n"
     ]
    },
    {
     "name": "stdout",
     "output_type": "stream",
     "text": [
      "Loading DLC 2.2.1.1...\n"
     ]
    },
    {
     "name": "stderr",
     "output_type": "stream",
     "text": [
      "/home/jonas2/miniconda/envs/dlc/lib/python3.8/site-packages/statsmodels/compat/pandas.py:65: FutureWarning: pandas.Int64Index is deprecated and will be removed from pandas in a future version. Use pandas.Index with the appropriate dtype instead.\n",
      "  from pandas import Int64Index as NumericIndex\n"
     ]
    },
    {
     "name": "stdout",
     "output_type": "stream",
     "text": [
      "DLC loaded in light mode; you cannot use any GUI (labeling, relabeling and standalone GUI)\n",
      "Created \"/home/jonas2/DLC_files/projects/bat_augmentation_austin_2020_bat_data-DLC-2022-08-18/videos\"\n",
      "Created \"/home/jonas2/DLC_files/projects/bat_augmentation_austin_2020_bat_data-DLC-2022-08-18/labeled-data\"\n",
      "Created \"/home/jonas2/DLC_files/projects/bat_augmentation_austin_2020_bat_data-DLC-2022-08-18/training-datasets\"\n",
      "Created \"/home/jonas2/DLC_files/projects/bat_augmentation_austin_2020_bat_data-DLC-2022-08-18/dlc-models\"\n",
      "1  videos from the directory /home/jonas2/DLC_files/projects/dummyVideos/ were added to the project.\n",
      "Attempting to create a symbolic link of the video ...\n",
      "Created the symlink of /home/jonas2/DLC_files/projects/dummyVideos/TS5-544-Cam1_2020-06-25_000032_c2vn31_c3vn31_autoCroppedDLC_resnet50_austin2020_refined_dataJan19shuffle2_100000_labeled.mp4 to /home/jonas2/DLC_files/projects/bat_augmentation_austin_2020_bat_data-DLC-2022-08-18/videos/TS5-544-Cam1_2020-06-25_000032_c2vn31_c3vn31_autoCroppedDLC_resnet50_austin2020_refined_dataJan19shuffle2_100000_labeled.mp4\n",
      "/home/jonas2/DLC_files/projects/bat_augmentation_austin_2020_bat_data-DLC-2022-08-18/videos/TS5-544-Cam1_2020-06-25_000032_c2vn31_c3vn31_autoCroppedDLC_resnet50_austin2020_refined_dataJan19shuffle2_100000_labeled.mp4\n",
      "Generated \"/home/jonas2/DLC_files/projects/bat_augmentation_austin_2020_bat_data-DLC-2022-08-18/config.yaml\"\n",
      "\n",
      "A new project with name bat_augmentation_austin_2020_bat_data-DLC-2022-08-18 is created at /home/jonas2/DLC_files/projects and a configurable file (config.yaml) is stored there. Change the parameters in this file to adapt to your project's needs.\n",
      " Once you have changed the configuration file, use the function 'extract_frames' to select frames for labeling.\n",
      ". [OPTIONAL] Use the function 'add_new_videos' to add new videos to your project (at any stage).\n"
     ]
    },
    {
     "name": "stderr",
     "output_type": "stream",
     "text": [
      "/home/jonas2/DeepLabCut/deeplabcut/__init__.py:81: UserWarning: \n",
      "        As PyTorch is not installed, unsupervised identity learning will not be available.\n",
      "        Please run `pip install torch`, or ignore this warning.\n",
      "        \n",
      "  warnings.warn(\n"
     ]
    },
    {
     "data": {
      "text/plain": [
       "'/home/jonas2/DLC_files/projects/bat_augmentation_austin_2020_bat_data-DLC-2022-08-18/config.yaml'"
      ]
     },
     "execution_count": 3,
     "metadata": {},
     "output_type": "execute_result"
    }
   ],
   "source": [
    "import deeplabcut\n",
    "\n",
    "project_folder = \"/home/jonas2/DLC_files/projects/\" #the folder in which the DLC project will be created\n",
    "deeplabcut.create_new_project(\n",
    "            project='bat_augmentation_austin_2020_bat_data',\n",
    "            experimenter='DLC',\n",
    "            videos=['/home/jonas2/DLC_files/projects/dummyVideos/'],\n",
    "            working_directory=project_folder\n",
    "        )"
   ]
  },
  {
   "cell_type": "markdown",
   "metadata": {},
   "source": [
    "Now that the project is created we need to modify our project config file. Open config.yaml in the project folder.\n",
    "\n",
    "![what to change in the config file](img/config001_videos_and_bodyparts.png)\n",
    "\n",
    "The list of videos and the list of bodyparts need to change to reflect the actual videos and bodyparts"
   ]
  },
  {
   "cell_type": "code",
   "execution_count": 2,
   "metadata": {},
   "outputs": [
    {
     "name": "stderr",
     "output_type": "stream",
     "text": [
      "2022-08-18 16:10:50.859743: I tensorflow/core/util/util.cc:169] oneDNN custom operations are on. You may see slightly different numerical results due to floating-point round-off errors from different computation orders. To turn them off, set the environment variable `TF_ENABLE_ONEDNN_OPTS=0`.\n"
     ]
    },
    {
     "name": "stdout",
     "output_type": "stream",
     "text": [
      "Loading DLC 2.2.1.1...\n"
     ]
    },
    {
     "name": "stderr",
     "output_type": "stream",
     "text": [
      "/home/jonas2/miniconda/envs/dlc/lib/python3.8/site-packages/statsmodels/compat/pandas.py:65: FutureWarning: pandas.Int64Index is deprecated and will be removed from pandas in a future version. Use pandas.Index with the appropriate dtype instead.\n",
      "  from pandas import Int64Index as NumericIndex\n"
     ]
    },
    {
     "name": "stdout",
     "output_type": "stream",
     "text": [
      "DLC loaded in light mode; you cannot use any GUI (labeling, relabeling and standalone GUI)\n"
     ]
    },
    {
     "name": "stderr",
     "output_type": "stream",
     "text": [
      "/home/jonas2/DeepLabCut/deeplabcut/__init__.py:81: UserWarning: \n",
      "        As PyTorch is not installed, unsupervised identity learning will not be available.\n",
      "        Please run `pip install torch`, or ignore this warning.\n",
      "        \n",
      "  warnings.warn(\n"
     ]
    }
   ],
   "source": [
    "#define config file\n",
    "config_path = \"/home/jonas2/DLC_files/projects/bat_augmentation_austin_2020_bat_data-DLC-2022-08-18/config.yaml\"\n",
    "\n",
    "from deeplabcut.utils.auxiliaryfunctions import read_config, edit_config\n"
   ]
  },
  {
   "cell_type": "code",
   "execution_count": 7,
   "metadata": {},
   "outputs": [
    {
     "data": {
      "text/plain": [
       "ordereddict([('Task', 'bat_augmentation_austin_2020_bat_data'), ('scorer', 'DLC'), ('date', 'Aug18'), ('multianimalproject', False), ('identity', None), ('project_path', '/home/jonas2/DLC_files/projects/bat_augmentation_austin_2020_bat_data-DLC-2022-08-18'), ('video_sets', ordereddict([('/home/jonas2/DLC_files/projects/dummyVideos/TS5-544-Cam1_2020-06-25_000032_c2vn31_c3vn31_autoCroppedDLC_resnet50_austin2020_refined_dataJan19shuffle2_100000_labeled.mp4', ordereddict([('crop', '0, 378, 0, 552')]))])), ('bodyparts', ['t3L', 'wstL', 't5L', 'elbL', 'shdL', 'ankL', 'nl', 'str', 'lmb', 'shdR', 'ankR', 'elbR', 'wstR', 't5R', 't3R', 'tail']), ('start', 0), ('stop', 1), ('numframes2pick', 20), ('skeleton', [['bodypart1', 'bodypart2'], ['objectA', 'bodypart3']]), ('skeleton_color', 'black'), ('pcutoff', 0.6), ('dotsize', 12), ('alphavalue', 0.7), ('colormap', 'rainbow'), ('TrainingFraction', [0.95]), ('iteration', 0), ('default_net_type', 'resnet_50'), ('default_augmenter', 'default'), ('snapshotindex', -1), ('batch_size', 8), ('cropping', False), ('x1', 0), ('x2', 640), ('y1', 277), ('y2', 624), ('corner2move2', [50, 50]), ('move2corner', True)])"
      ]
     },
     "execution_count": 7,
     "metadata": {},
     "output_type": "execute_result"
    }
   ],
   "source": [
    "edit_config(config_path,{\"bodyparts\":['t3L', 'wstL', 't5L', 'elbL', 'shdL', 'ankL', 'nl', 'str', 'lmb', 'shdR', 'ankR', 'elbR', 'wstR', 't5R', 't3R', 'tail']})"
   ]
  },
  {
   "cell_type": "code",
   "execution_count": 26,
   "metadata": {},
   "outputs": [
    {
     "data": {
      "text/plain": [
       "ordereddict([('Task', 'bat_augmentation_austin_2020_bat_data'), ('scorer', 'DLC'), ('date', 'Aug18'), ('multianimalproject', False), ('identity', None), ('project_path', '/home/jonas2/DLC_files/projects/bat_augmentation_austin_2020_bat_data-DLC-2022-08-18'), ('video_sets', ordereddict([('/TS5-544-Cam1_2020-06-25_000090Track6_25_A.avi', ordereddict([('crop', '0, 351, 0, 351')])), ('/IL5-519-Cam2_2020-06-25_000089Track8_25_A.avi', ordereddict([('crop', '0, 351, 0, 351')])), ('/IL5-534-Cam3_2020-06-25_000085Track5_25_A.avi', ordereddict([('crop', '0, 351, 0, 351')])), ('/TS5-544-Cam1_2020-06-25_000094Track1_25_B.avi', ordereddict([('crop', '0, 301, 0, 301')])), ('/IL5-519-Cam2_2020-06-25_000093Track3_25_B.avi', ordereddict([('crop', '0, 351, 0, 351')])), ('/IL5-534-Cam3_2020-06-25_000089Track1_25_B.avi', ordereddict([('crop', '0, 351, 0, 351')])), ('/TS5-544-Cam1_2020-06-25_000099Track8_25_ref.avi', ordereddict([('crop', '0, 301, 0, 301')])), ('/IL5-519-Cam2_2020-06-25_000099Track6_25_ref.avi', ordereddict([('crop', '0, 351, 0, 351')])), ('/IL5-534-Cam3_2020-06-25_000095Track14_25_ref.avi', ordereddict([('crop', '0, 301, 0, 301')])), ('/TS5-544-Cam1_2020-06-25_000100Track5_50_B.avi', ordereddict([('crop', '0, 301, 0, 301')])), ('/IL5-519-Cam2_2020-06-25_000100Track1_50_B.avi', ordereddict([('crop', '0, 301, 0, 301')])), ('/IL5-534-Cam3_2020-06-25_000096Track2_50_B.avi', ordereddict([('crop', '0, 301, 0, 301')])), ('/TS5-544-Cam1_2020-06-25_000100Track5_25_B.avi', ordereddict([('crop', '0, 301, 0, 301')])), ('/IL5-519-Cam2_2020-06-25_000100Track1_25_B.avi', ordereddict([('crop', '0, 301, 0, 301')])), ('/IL5-534-Cam3_2020-06-25_000096Track2_25_B.avi', ordereddict([('crop', '0, 301, 0, 301')])), ('/TS5-544-Cam1_2020-06-25_000103Track3_50_test.avi', ordereddict([('crop', '0, 451, 0, 451')])), ('/IL5-519-Cam2_2020-06-25_000103Track3_50_test.avi', ordereddict([('crop', '0, 451, 0, 451')])), ('/IL5-534-Cam3_2020-06-25_000100Track4_50_test.avi', ordereddict([('crop', '0, 501, 0, 501')])), ('/TS5-544-Cam1_2020-06-25_000103Track3_25_ref.avi', ordereddict([('crop', '0, 451, 0, 451')])), ('/IL5-519-Cam2_2020-06-25_000103Track3_25_ref.avi', ordereddict([('crop', '0, 451, 0, 451')])), ('/IL5-534-Cam3_2020-06-25_000100Track4_25_ref.avi', ordereddict([('crop', '0, 501, 0, 501')])), ('/TS5-544-Cam1_2020-06-25_000104Track3_50_test.avi', ordereddict([('crop', '0, 451, 0, 451')])), ('/IL5-519-Cam2_2020-06-25_000104Track2_50_test.avi', ordereddict([('crop', '0, 501, 0, 501')])), ('/IL5-534-Cam3_2020-06-25_000101Track4_50_test.avi', ordereddict([('crop', '0, 451, 0, 451')])), ('/TS5-544-Cam1_2020-06-25_000104Track3_25_ref.avi', ordereddict([('crop', '0, 451, 0, 451')])), ('/IL5-519-Cam2_2020-06-25_000104Track2_25_ref.avi', ordereddict([('crop', '0, 501, 0, 501')])), ('/IL5-534-Cam3_2020-06-25_000101Track4_25_ref.avi', ordereddict([('crop', '0, 451, 0, 451')])), ('/TS5-544-Cam1_2020-06-25_000108Track6_50_test.avi', ordereddict([('crop', '0, 351, 0, 351')])), ('/IL5-519-Cam2_2020-06-25_000109Track1_50_test.avi', ordereddict([('crop', '0, 351, 0, 351')])), ('/IL5-534-Cam3_2020-06-25_000106Track3_50_test.avi', ordereddict([('crop', '0, 451, 0, 451')])), ('/TS5-544-Cam1_2020-06-25_000108Track6_25_ref.avi', ordereddict([('crop', '0, 351, 0, 351')])), ('/IL5-519-Cam2_2020-06-25_000109Track1_25_ref.avi', ordereddict([('crop', '0, 351, 0, 351')])), ('/IL5-534-Cam3_2020-06-25_000106Track3_25_ref.avi', ordereddict([('crop', '0, 451, 0, 451')])), ('/TS5-544-Cam1_2020-06-25_000121Track7_50_A.avi', ordereddict([('crop', '0, 401, 0, 401')])), ('/IL5-519-Cam2_2020-06-25_000122Track9_50_A.avi', ordereddict([('crop', '0, 451, 0, 451')])), ('/IL5-534-Cam3_2020-06-25_000121Track11_50_A.avi', ordereddict([('crop', '0, 426, 0, 426')])), ('/TS5-544-Cam1_2020-06-25_000121Track7_25_A.avi', ordereddict([('crop', '0, 401, 0, 401')])), ('/IL5-519-Cam2_2020-06-25_000122Track9_25_A.avi', ordereddict([('crop', '0, 451, 0, 451')])), ('/IL5-534-Cam3_2020-06-25_000121Track11_25_A.avi', ordereddict([('crop', '0, 426, 0, 426')])), ('/TS5-544-Cam1_2020-06-25_000123Track6_50_test.avi', ordereddict([('crop', '0, 351, 0, 351')])), ('/IL5-519-Cam2_2020-06-25_000124Track9_50_test.avi', ordereddict([('crop', '0, 401, 0, 401')])), ('/IL5-534-Cam3_2020-06-25_000122Track7_50_test.avi', ordereddict([('crop', '0, 401, 0, 401')])), ('/TS5-544-Cam1_2020-06-25_000123Track6_25_ref.avi', ordereddict([('crop', '0, 351, 0, 351')])), ('/IL5-519-Cam2_2020-06-25_000124Track9_25_ref.avi', ordereddict([('crop', '0, 401, 0, 401')])), ('/IL5-534-Cam3_2020-06-25_000122Track7_25_ref.avi', ordereddict([('crop', '0, 401, 0, 401')])), ('/TS5-544-Cam1_2020-06-25_000128Track2_50_test.avi', ordereddict([('crop', '0, 451, 0, 451')])), ('/IL5-519-Cam2_2020-06-25_000130Track2_50_test.avi', ordereddict([('crop', '0, 401, 0, 401')])), ('/IL5-534-Cam3_2020-06-25_000127Track4_50_test.avi', ordereddict([('crop', '0, 401, 0, 401')])), ('/TS5-544-Cam1_2020-06-25_000128Track2_25_ref.avi', ordereddict([('crop', '0, 451, 0, 451')])), ('/IL5-519-Cam2_2020-06-25_000130Track2_25_ref.avi', ordereddict([('crop', '0, 401, 0, 401')])), ('/IL5-534-Cam3_2020-06-25_000127Track4_25_ref.avi', ordereddict([('crop', '0, 401, 0, 401')])), ('/TS5-544-Cam1_2020-06-25_000134Track5_50_test.avi', ordereddict([('crop', '0, 351, 0, 351')])), ('/IL5-519-Cam2_2020-06-25_000136Track10_50_test.avi', ordereddict([('crop', '0, 401, 0, 401')])), ('/IL5-534-Cam3_2020-06-25_000133Track9_50_test.avi', ordereddict([('crop', '0, 401, 0, 401')])), ('/TS5-544-Cam1_2020-06-25_000134Track5_25_ref.avi', ordereddict([('crop', '0, 351, 0, 351')])), ('/IL5-519-Cam2_2020-06-25_000136Track10_25_ref.avi', ordereddict([('crop', '0, 401, 0, 401')])), ('/IL5-534-Cam3_2020-06-25_000133Track9_25_ref.avi', ordereddict([('crop', '0, 401, 0, 401')])), ('/TS5-544-Cam1_2020-06-25_000140Track12_25_A.avi', ordereddict([('crop', '0, 451, 0, 451')])), ('/IL5-519-Cam2_2020-06-25_000142Track10_25_A.avi', ordereddict([('crop', '0, 451, 0, 451')])), ('/IL5-534-Cam3_2020-06-25_000139Track7_25_A.avi', ordereddict([('crop', '0, 451, 0, 451')])), ('/TS5-544-Cam1_2020-06-25_000140Track12_50_A.avi', ordereddict([('crop', '0, 451, 0, 451')])), ('/IL5-519-Cam2_2020-06-25_000142Track10_50_A.avi', ordereddict([('crop', '0, 451, 0, 451')])), ('/IL5-534-Cam3_2020-06-25_000139Track7_50_A.avi', ordereddict([('crop', '0, 451, 0, 451')])), ('/TS5-544-Cam1_2020-06-25_000154Track6_50_B.avi', ordereddict([('crop', '0, 601, 0, 601')])), ('/IL5-519-Cam2_2020-06-25_000156Track4_50_B.avi', ordereddict([('crop', '0, 501, 0, 501')])), ('/IL5-534-Cam3_2020-06-25_000153Track4_50_B.avi', ordereddict([('crop', '0, 551, 0, 551')])), ('/TS5-544-Cam1_2020-06-25_000154Track6_25_B.avi', ordereddict([('crop', '0, 601, 0, 601')])), ('/IL5-519-Cam2_2020-06-25_000156Track4_25_B.avi', ordereddict([('crop', '0, 501, 0, 501')])), ('/IL5-534-Cam3_2020-06-25_000153Track4_25_B.avi', ordereddict([('crop', '0, 551, 0, 551')])), ('/TS5-544-Cam1_2020-06-25_000089Track5_A.avi', ordereddict([('crop', '0, 301, 0, 301')])), ('/IL5-519-Cam2_2020-06-25_000088Track5_A.avi', ordereddict([('crop', '0, 351, 0, 351')])), ('/IL5-534-Cam3_2020-06-25_000084Track12_A.avi', ordereddict([('crop', '0, 301, 0, 301')])), ('/TS5-544-Cam1_2020-06-25_000090Track6_50_A.avi', ordereddict([('crop', '0, 351, 0, 351')])), ('/IL5-519-Cam2_2020-06-25_000089Track8_50_A.avi', ordereddict([('crop', '0, 351, 0, 351')])), ('/IL5-534-Cam3_2020-06-25_000085Track5_50_A.avi', ordereddict([('crop', '0, 351, 0, 351')])), ('/TS5-544-Cam1_2020-06-25_000094Track1_50_B.avi', ordereddict([('crop', '0, 301, 0, 301')])), ('/IL5-519-Cam2_2020-06-25_000093Track3_50_B.avi', ordereddict([('crop', '0, 351, 0, 351')])), ('/IL5-534-Cam3_2020-06-25_000089Track1_50_B.avi', ordereddict([('crop', '0, 351, 0, 351')])), ('/TS5-544-Cam1_2020-06-25_000095Track1_B.avi', ordereddict([('crop', '0, 401, 0, 401')])), ('/IL5-519-Cam2_2020-06-25_000094Track2_B.avi', ordereddict([('crop', '0, 401, 0, 401')])), ('/IL5-534-Cam3_2020-06-25_000090Track7_B.avi', ordereddict([('crop', '0, 421, 0, 421')])), ('/TS5-544-Cam1_2020-06-25_000097Track5_A.avi', ordereddict([('crop', '0, 351, 0, 351')])), ('/IL5-519-Cam2_2020-06-25_000096Track3_A.avi', ordereddict([('crop', '0, 401, 0, 401')])), ('/IL5-534-Cam3_2020-06-25_000092Track1_A.avi', ordereddict([('crop', '0, 421, 0, 421')])), ('/TS5-544-Cam1_2020-06-25_000098Track1_B.avi', ordereddict([('crop', '0, 351, 0, 351')])), ('/IL5-519-Cam2_2020-06-25_000097Track10_B.avi', ordereddict([('crop', '0, 351, 0, 351')])), ('/IL5-534-Cam3_2020-06-25_000093Track4_B.avi', ordereddict([('crop', '0, 351, 0, 351')])), ('/TS5-544-Cam1_2020-06-25_000099Track3_A.avi', ordereddict([('crop', '0, 301, 0, 301')])), ('/IL5-519-Cam2_2020-06-25_000099Track5_A.avi', ordereddict([('crop', '0, 351, 0, 351')])), ('/IL5-534-Cam3_2020-06-25_000095Track4_A.avi', ordereddict([('crop', '0, 401, 0, 401')])), ('/TS5-544-Cam1_2020-06-25_000099Track8_50_test.avi', ordereddict([('crop', '0, 301, 0, 301')])), ('/IL5-519-Cam2_2020-06-25_000099Track6_50_test.avi', ordereddict([('crop', '0, 351, 0, 351')])), ('/IL5-534-Cam3_2020-06-25_000095Track14_50_test.avi', ordereddict([('crop', '0, 301, 0, 301')])), ('/TS5-544-Cam1_2020-06-25_000008_cropped_B.avi', ordereddict([('crop', '0, 655, 0, 997')])), ('/IL5-519-Cam2_2020-06-25_000007_cropped_B.avi', ordereddict([('crop', '0, 521, 0, 915')])), ('/IL5-534-Cam3_2020-06-25_000007_cropped_B.avi', ordereddict([('crop', '0, 508, 0, 897')])), ('/TS5-544-Cam1_2020-06-25_000024_cropped_A.avi', ordereddict([('crop', '0, 465, 0, 924')])), ('/IL5-519-Cam2_2020-06-25_000023_cropped_A.avi', ordereddict([('crop', '0, 418, 0, 772')])), ('/IL5-534-Cam3_2020-06-25_000023_cropped_A.avi', ordereddict([('crop', '0, 425, 0, 766')])), ('/TS5-544-Cam1_2020-06-25_000032_cropped_B.avi', ordereddict([('crop', '0, 447, 0, 628')])), ('/IL5-519-Cam2_2020-06-25_000031_cropped_B.avi', ordereddict([('crop', '0, 299, 0, 550')])), ('/IL5-534-Cam3_2020-06-25_000031_cropped_B.avi', ordereddict([('crop', '0, 291, 0, 504')])), ('/TS5-544-Cam1_2020-06-25_000084_cropped_A.avi', ordereddict([('crop', '0, 368, 0, 503')])), ('/IL5-519-Cam2_2020-06-25_000083_cropped_A.avi', ordereddict([('crop', '0, 290, 0, 499')])), ('/IL5-534-Cam3_2020-06-25_000079_cropped_A.avi', ordereddict([('crop', '0, 408, 0, 520')])), ('/TS5-544-Cam1_2020-06-25_000086_cropped_B.avi', ordereddict([('crop', '0, 226, 0, 417')])), ('/IL5-519-Cam2_2020-06-25_000085_cropped_B.avi', ordereddict([('crop', '0, 229, 0, 437')])), ('/IL5-534-Cam3_2020-06-25_000081_cropped_B.avi', ordereddict([('crop', '0, 269, 0, 544')])), ('/TS5-544-Cam1_2020-06-25_000091_cropped_A.avi', ordereddict([('crop', '0, 210, 0, 385')])), ('/IL5-519-Cam2_2020-06-25_000090_cropped_A.avi', ordereddict([('crop', '0, 217, 0, 381')])), ('/IL5-534-Cam3_2020-06-25_000086_cropped_A.avi', ordereddict([('crop', '0, 219, 0, 409')])), ('/TS5-544-Cam1_2020-06-25_000135_cropped_B.avi', ordereddict([('crop', '0, 196, 0, 383')])), ('/IL5-519-Cam2_2020-06-25_000137_cropped_B.avi', ordereddict([('crop', '0, 316, 0, 340')])), ('/IL5-534-Cam3_2020-06-25_000134_cropped_B.avi', ordereddict([('crop', '0, 247, 0, 370')])), ('/TS5-544-Cam1_2020-06-25_000159_cropped_A.avi', ordereddict([('crop', '0, 334, 0, 364')])), ('/IL5-519-Cam2_2020-06-25_000161_cropped_A.avi', ordereddict([('crop', '0, 518, 0, 326')])), ('/IL5-534-Cam3_2020-06-25_000158_cropped_A.avi', ordereddict([('crop', '0, 504, 0, 373')]))])), ('bodyparts', ['t3L', 'wstL', 't5L', 'elbL', 'shdL', 'ankL', 'nl', 'str', 'lmb', 'shdR', 'ankR', 'elbR', 'wstR', 't5R', 't3R', 'tail']), ('start', 0), ('stop', 1), ('numframes2pick', 20), ('skeleton', [['bodypart1', 'bodypart2'], ['objectA', 'bodypart3']]), ('skeleton_color', 'black'), ('pcutoff', 0.6), ('dotsize', 12), ('alphavalue', 0.7), ('colormap', 'rainbow'), ('TrainingFraction', [0.95]), ('iteration', 0), ('default_net_type', 'resnet_50'), ('default_augmenter', 'default'), ('snapshotindex', -1), ('batch_size', 8), ('cropping', False), ('x1', 0), ('x2', 640), ('y1', 277), ('y2', 624), ('corner2move2', [50, 50]), ('move2corner', True)])"
      ]
     },
     "execution_count": 26,
     "metadata": {},
     "output_type": "execute_result"
    }
   ],
   "source": [
    "#dummy thing for now. I want function for this.\n",
    "videolist = read_config(\"/home/jonas2/DLC_files/projects/geneva_protocol_paper_austin_2020_bat_data-DLC-2022-08-03/config.yaml\")[\"video_sets\"]\n",
    "edit_config(config_path,{'video_sets':videolist})"
   ]
  },
  {
   "cell_type": "markdown",
   "metadata": {},
   "source": [
    "### Convert training data to DLC format\n",
    "Since this data was labeled outside of DeepLabCut, we first used our own code to convert it into csv formatted csv files, we then use the function ```convertcsv2h5```.\n",
    "\n",
    "After doing this, I like to use the functgion ```check_labels``` to make sure that the conversion was succesful. "
   ]
  },
  {
   "cell_type": "code",
   "execution_count": 27,
   "metadata": {},
   "outputs": [
    {
     "name": "stdout",
     "output_type": "stream",
     "text": [
      "Creating images with labels by DLC.\n"
     ]
    },
    {
     "name": "stderr",
     "output_type": "stream",
     "text": [
      "100%|██████████| 6/6 [00:00<00:00, 17.53it/s]\n",
      "100%|██████████| 6/6 [00:00<00:00, 21.47it/s]\n",
      "100%|██████████| 6/6 [00:00<00:00, 20.86it/s]\n",
      "100%|██████████| 8/8 [00:00<00:00, 25.42it/s]\n",
      "100%|██████████| 8/8 [00:00<00:00, 21.44it/s]\n",
      "100%|██████████| 8/8 [00:00<00:00, 21.87it/s]\n",
      "100%|██████████| 11/11 [00:00<00:00, 27.56it/s]\n",
      "100%|██████████| 11/11 [00:00<00:00, 19.24it/s]\n",
      "100%|██████████| 11/11 [00:00<00:00, 28.85it/s]\n",
      "100%|██████████| 6/6 [00:00<00:00, 28.82it/s]\n",
      "100%|██████████| 6/6 [00:00<00:00, 25.66it/s]\n",
      "100%|██████████| 6/6 [00:00<00:00, 24.13it/s]\n",
      "100%|██████████| 6/6 [00:00<00:00, 26.14it/s]\n",
      "100%|██████████| 6/6 [00:00<00:00, 22.68it/s]\n",
      "100%|██████████| 6/6 [00:00<00:00, 28.34it/s]\n",
      "100%|██████████| 8/8 [00:00<00:00, 12.33it/s]\n",
      "100%|██████████| 8/8 [00:00<00:00, 13.06it/s]\n",
      "100%|██████████| 8/8 [00:00<00:00, 10.26it/s]\n",
      "100%|██████████| 9/9 [00:00<00:00, 13.22it/s]\n",
      "100%|██████████| 9/9 [00:00<00:00, 12.98it/s]\n",
      "100%|██████████| 9/9 [00:00<00:00, 10.84it/s]\n",
      "100%|██████████| 5/5 [00:00<00:00, 14.21it/s]\n",
      "100%|██████████| 5/5 [00:00<00:00, 11.30it/s]\n",
      "100%|██████████| 5/5 [00:00<00:00, 12.84it/s]\n",
      "100%|██████████| 5/5 [00:00<00:00, 12.65it/s]\n",
      "100%|██████████| 5/5 [00:00<00:00, 11.07it/s]\n",
      "100%|██████████| 5/5 [00:00<00:00, 12.75it/s]\n",
      "100%|██████████| 6/6 [00:00<00:00, 21.95it/s]\n",
      "100%|██████████| 6/6 [00:00<00:00, 21.49it/s]\n",
      "100%|██████████| 6/6 [00:00<00:00, 13.47it/s]\n",
      "100%|██████████| 6/6 [00:00<00:00, 22.04it/s]\n",
      "100%|██████████| 6/6 [00:00<00:00, 20.18it/s]\n",
      "100%|██████████| 6/6 [00:00<00:00, 12.96it/s]\n",
      "100%|██████████| 7/7 [00:00<00:00, 15.82it/s]\n",
      "100%|██████████| 7/7 [00:00<00:00, 12.40it/s]\n",
      "100%|██████████| 7/7 [00:00<00:00, 15.18it/s]\n",
      "100%|██████████| 8/8 [00:00<00:00, 16.15it/s]\n",
      "100%|██████████| 8/8 [00:00<00:00, 13.49it/s]\n",
      "100%|██████████| 8/8 [00:00<00:00, 14.88it/s]\n",
      "100%|██████████| 8/8 [00:00<00:00, 21.35it/s]\n",
      "100%|██████████| 8/8 [00:00<00:00, 15.42it/s]\n",
      "100%|██████████| 8/8 [00:00<00:00, 16.00it/s]\n",
      "100%|██████████| 9/9 [00:00<00:00, 19.48it/s]\n",
      "100%|██████████| 9/9 [00:00<00:00, 15.92it/s]\n",
      "100%|██████████| 9/9 [00:00<00:00, 17.19it/s]\n",
      "100%|██████████| 7/7 [00:00<00:00, 13.74it/s]\n",
      "100%|██████████| 7/7 [00:00<00:00, 14.58it/s]\n",
      "100%|██████████| 7/7 [00:00<00:00, 14.20it/s]\n",
      "100%|██████████| 7/7 [00:00<00:00, 13.50it/s]\n",
      "100%|██████████| 6/6 [00:00<00:00, 16.89it/s]\n",
      "100%|██████████| 7/7 [00:00<00:00, 17.23it/s]\n",
      "100%|██████████| 6/6 [00:00<00:00, 21.70it/s]\n",
      "100%|██████████| 6/6 [00:00<00:00, 15.88it/s]\n",
      "100%|██████████| 6/6 [00:00<00:00, 15.06it/s]\n",
      "100%|██████████| 6/6 [00:00<00:00, 22.42it/s]\n",
      "100%|██████████| 6/6 [00:00<00:00, 14.89it/s]\n",
      "100%|██████████| 6/6 [00:00<00:00, 15.18it/s]\n",
      "100%|██████████| 7/7 [00:00<00:00, 12.91it/s]\n",
      "100%|██████████| 7/7 [00:00<00:00, 12.98it/s]\n",
      "100%|██████████| 7/7 [00:00<00:00, 12.52it/s]\n",
      "100%|██████████| 7/7 [00:00<00:00, 14.08it/s]\n",
      "100%|██████████| 7/7 [00:00<00:00, 11.48it/s]\n",
      "100%|██████████| 7/7 [00:00<00:00, 13.49it/s]\n",
      "100%|██████████| 10/10 [00:01<00:00,  7.96it/s]\n",
      "100%|██████████| 10/10 [00:00<00:00, 10.02it/s]\n",
      "100%|██████████| 10/10 [00:01<00:00,  8.79it/s]\n",
      "100%|██████████| 10/10 [00:01<00:00,  7.83it/s]\n",
      "100%|██████████| 10/10 [00:00<00:00, 11.17it/s]\n",
      "100%|██████████| 10/10 [00:01<00:00,  8.93it/s]\n",
      "100%|██████████| 40/40 [00:01<00:00, 27.48it/s]\n",
      "100%|██████████| 40/40 [00:01<00:00, 21.48it/s]\n",
      "100%|██████████| 40/40 [00:01<00:00, 26.02it/s]\n",
      "100%|██████████| 6/6 [00:00<00:00, 22.21it/s]\n",
      "100%|██████████| 6/6 [00:00<00:00, 18.60it/s]\n",
      "100%|██████████| 6/6 [00:00<00:00, 19.99it/s]\n",
      "100%|██████████| 7/7 [00:00<00:00, 24.50it/s]\n",
      "100%|██████████| 7/7 [00:00<00:00, 21.25it/s]\n",
      "100%|██████████| 7/7 [00:00<00:00, 21.61it/s]\n",
      "100%|██████████| 19/19 [00:01<00:00, 15.97it/s]\n",
      "100%|██████████| 19/19 [00:01<00:00, 15.89it/s]\n",
      "100%|██████████| 19/19 [00:01<00:00, 14.91it/s]\n",
      "100%|██████████| 19/19 [00:00<00:00, 21.01it/s]\n",
      "100%|██████████| 19/19 [00:01<00:00, 15.22it/s]\n",
      "100%|██████████| 19/19 [00:01<00:00, 14.10it/s]\n",
      "100%|██████████| 22/22 [00:01<00:00, 19.50it/s]\n",
      "100%|██████████| 22/22 [00:01<00:00, 18.52it/s]\n",
      "100%|██████████| 22/22 [00:01<00:00, 19.92it/s]\n",
      "100%|██████████| 23/23 [00:00<00:00, 26.98it/s]\n",
      "100%|██████████| 23/23 [00:01<00:00, 19.88it/s]\n",
      "100%|██████████| 23/23 [00:01<00:00, 16.15it/s]\n",
      "100%|██████████| 10/10 [00:00<00:00, 27.20it/s]\n",
      "100%|██████████| 10/10 [00:00<00:00, 20.87it/s]\n",
      "100%|██████████| 10/10 [00:00<00:00, 26.14it/s]\n",
      "100%|██████████| 7/7 [00:01<00:00,  4.61it/s]\n",
      "100%|██████████| 12/12 [00:02<00:00,  5.84it/s]\n",
      "100%|██████████| 11/11 [00:01<00:00,  6.76it/s]\n",
      "100%|██████████| 11/11 [00:01<00:00,  6.86it/s]\n",
      "100%|██████████| 11/11 [00:01<00:00,  8.86it/s]\n",
      "100%|██████████| 12/12 [00:01<00:00,  8.17it/s]\n",
      "100%|██████████| 10/10 [00:00<00:00, 10.50it/s]\n",
      "100%|██████████| 10/10 [00:00<00:00, 15.74it/s]\n",
      "100%|██████████| 10/10 [00:00<00:00, 19.14it/s]\n",
      "100%|██████████| 19/19 [00:01<00:00, 14.32it/s]\n",
      "100%|██████████| 19/19 [00:01<00:00, 17.17it/s]\n",
      "100%|██████████| 19/19 [00:01<00:00, 12.63it/s]\n",
      "100%|██████████| 33/33 [00:01<00:00, 26.69it/s]\n",
      "100%|██████████| 33/33 [00:01<00:00, 24.69it/s]\n",
      "100%|██████████| 33/33 [00:01<00:00, 17.09it/s]\n",
      "100%|██████████| 31/31 [00:01<00:00, 30.82it/s]\n",
      "100%|██████████| 31/31 [00:01<00:00, 29.21it/s]\n",
      "100%|██████████| 31/31 [00:01<00:00, 26.14it/s]\n",
      "100%|██████████| 15/15 [00:00<00:00, 32.57it/s]\n",
      "100%|██████████| 15/15 [00:00<00:00, 22.19it/s]\n",
      "100%|██████████| 15/15 [00:00<00:00, 25.06it/s]\n",
      "100%|██████████| 19/19 [00:00<00:00, 22.68it/s]\n",
      "100%|██████████| 19/19 [00:01<00:00, 15.88it/s]\n",
      "100%|██████████| 19/19 [00:01<00:00, 14.34it/s]"
     ]
    },
    {
     "name": "stdout",
     "output_type": "stream",
     "text": [
      "If all the labels are ok, then use the function 'create_training_dataset' to create the training dataset!\n"
     ]
    },
    {
     "name": "stderr",
     "output_type": "stream",
     "text": [
      "\n"
     ]
    }
   ],
   "source": [
    "# Convert training data into the DeepLabCut format\n",
    "import deeplabcut\n",
    "deeplabcut.convertcsv2h5(config_path, userfeedback=False)\n",
    "\n",
    "# Check labels (sanity check)\n",
    "deeplabcut.check_labels(config_path)"
   ]
  },
  {
   "cell_type": "markdown",
   "metadata": {},
   "source": [
    "## Training data indices\n",
    "By default, DeepLabCut assumes that we want to randomly divide the data into training and testing data. But for testing, you might want more control of this. To achieve this..."
   ]
  },
  {
   "cell_type": "code",
   "execution_count": 28,
   "metadata": {},
   "outputs": [
    {
     "name": "stdout",
     "output_type": "stream",
     "text": [
      "The training dataset is successfully created. Use the function 'train_network' to start training. Happy training!\n"
     ]
    },
    {
     "data": {
      "text/plain": [
       "[(0.95,\n",
       "  99,\n",
       "  (array([ 661, 1225,  315, ...,  324,  203,   84]),\n",
       "   array([ 633,  908,  611,  398,   91, 1106,  430,  779, 1143,  291,   57,\n",
       "           257,  888, 1347, 1066,  388,  335,  273,  756, 1077, 1337,  128,\n",
       "           802,   28, 1207,  882,  510,  675,  151,  244,  714,  543,  544,\n",
       "           639,  697, 1289, 1312,  423,  910, 1171,  659,  797, 1363, 1201,\n",
       "            99,  850,  448,  755,  976,  115,  777,   72,  845,  537,  849,\n",
       "           174,   87,  551,  705,  314,  600, 1094,  599,  277, 1033,  763,\n",
       "           835, 1216,  559,  684])))]"
      ]
     },
     "execution_count": 28,
     "metadata": {},
     "output_type": "execute_result"
    }
   ],
   "source": [
    "# Dummy training dataset to get indexes and so on from later\n",
    "deeplabcut.create_training_dataset(config_path, Shuffles=[99])"
   ]
  },
  {
   "cell_type": "code",
   "execution_count": 3,
   "metadata": {},
   "outputs": [],
   "source": [
    "# %% Create model folders\n",
    "\n",
    "import shutil\n",
    "from deeplabcut.utils.auxiliaryfunctions import read_config, edit_config\n",
    "import os\n",
    "\n",
    "config_path = \"/home/jonas2/DLC_files/projects/bat_augmentation_austin_2020_bat_data-DLC-2022-08-18/config.yaml\"\n",
    "\n",
    "model_number = 0\n",
    "modelprefix_pre = 'data_augm'\n",
    "daug_str = 'base'\n",
    "TRAINING_SET_INDEX = 0\n",
    "TRAIN_ITERATION = 0\n",
    "\n",
    "#%%\n",
    "### Get config as dict and associated paths\n",
    "cfg = read_config(config_path)\n",
    "project_path = cfg[\"project_path\"] # or: os.path.dirname(config_path) #dlc_models_path = os.path.join(project_path, \"dlc-models\")\n",
    "training_datasets_path = os.path.join(project_path, \"training-datasets\")\n",
    "#%%\n",
    "# Get shuffles\n",
    "shuffles = [1,2,3,4]\n",
    "trainingsetindices = [0, 1, 2, 3]\n",
    "# %%\n",
    "# Get train and test pose config file paths from base project, for each shuffle\n",
    "list_base_train_pose_config_file_paths = []\n",
    "list_base_test_pose_config_file_paths = []\n",
    "for shuffle_number, trainingsetindex in zip(shuffles, trainingsetindices):\n",
    "    base_train_pose_config_file_path_TEMP,\\\n",
    "    base_test_pose_config_file_path_TEMP,\\\n",
    "    _ = deeplabcut.return_train_network_path(config_path,\n",
    "                                            shuffle=shuffle_number,\n",
    "                                            trainingsetindex=trainingsetindex)  # base_train_pose_config_file\n",
    "    list_base_train_pose_config_file_paths.append(base_train_pose_config_file_path_TEMP)\n",
    "    list_base_test_pose_config_file_paths.append(base_test_pose_config_file_path_TEMP)\n",
    "# %%\n",
    "# Create subdirs for this augmentation method\n",
    "model_prefix = '_'.join([modelprefix_pre, \"{0:0=2d}\".format(model_number), daug_str]) # modelprefix_pre = aug_\n",
    "aug_project_path = os.path.join(project_path, model_prefix)\n",
    "aug_dlc_models = os.path.join(aug_project_path, \"dlc-models\", )\n",
    "aug_training_datasets = os.path.join(aug_project_path, \"training-datasets\")\n",
    "try:\n",
    "    os.mkdir(aug_project_path)\n",
    "except OSError as error:\n",
    "    print(error)\n",
    "    print(\"Skipping this one as it already exists\")\n",
    "\n",
    "# %% Copy training datasets in there\n",
    "shutil.copytree(training_datasets_path, aug_training_datasets)\n",
    "\n",
    "# %%\n",
    "# Copy base train pose config file to the directory of this augmentation method\n",
    "list_train_pose_config_path_per_shuffle = []\n",
    "list_test_pose_config_path_per_shuffle = []\n",
    "for j, (shuffle, trainingsetindex) in enumerate(zip(shuffles,trainingsetindices)):\n",
    "    one_train_pose_config_file_path,\\\n",
    "    one_test_pose_config_file_path,\\\n",
    "    _ = deeplabcut.return_train_network_path(config_path,\n",
    "                                            shuffle=shuffle,\n",
    "                                            trainingsetindex=trainingsetindex, # default\n",
    "                                            modelprefix=model_prefix)\n",
    "    # make train and test directories for this subdir\n",
    "    os.makedirs(str(os.path.dirname(one_train_pose_config_file_path))) # create parentdir 'train'\n",
    "    os.makedirs(str(os.path.dirname(one_test_pose_config_file_path))) # create parentdir 'test\n",
    "    # copy test and train config from base project to this subdir\n",
    "    # copy base train config file\n",
    "    shutil.copyfile(list_base_train_pose_config_file_paths[j],\n",
    "                        one_train_pose_config_file_path) \n",
    "    # copy base test config file\n",
    "    shutil.copyfile(list_base_test_pose_config_file_paths[j],\n",
    "                        one_test_pose_config_file_path)\n",
    "   # add to list\n",
    "    list_train_pose_config_path_per_shuffle.append(one_train_pose_config_file_path) \n",
    "    list_test_pose_config_path_per_shuffle.append(one_test_pose_config_file_path)\n",
    "# %%\n",
    "# %%\n",
    "edits_dict = dict()\n",
    "edits_dict[\"rotation\"] = 25\n",
    "edits_dict[\"gaussian_blur\"] = False\n",
    "edits_dict[\"gaussian_blur_params\"] = {\"sigma\": (0.5, 4.0)}\n",
    "edits_dict[\"scale_jitter_lo\"] = .5\n",
    "edits_dict[\"scale_jitter_up\"] = 1.25\n",
    "edits_dict[\"symmetric_pairs\"] = (0, 14), (1, 12), (2, 13), (3, 11), (4, 9), (5, 10)\n",
    "edits_dict[\"fliplr\"] = False\n",
    "\n",
    "## Initialise dict with additional edits to train config: optimizer\n",
    "train_edits_dict = {}\n",
    "dict_optimizer = {'optimizer':'adam',\n",
    "    'batch_size': 8,\n",
    "    'multi_step': [[1e-4, 7500], [5 * 1e-5, 12000], [1e-5, 150000]]} # if no yaml file passed, initialise as an empty dict\n",
    "train_edits_dict.update({'optimizer': dict_optimizer['optimizer'], #'adam',\n",
    "    'batch_size': dict_optimizer['batch_size'], #16,\n",
    "    'multi_step': dict_optimizer['multi_step']}) # learning rate schedule for adam: [[1e-4, 7500], [5 * 1e-5, 12000], [1e-5, 200000]]\n",
    "\n",
    "for shuffle, trainingsetindex in zip(shuffles,trainingsetindices):\n",
    "    one_train_pose_config_file_path,\\\n",
    "    one_test_pose_config_file_path,\\\n",
    "    _ = deeplabcut.return_train_network_path(config_path,\n",
    "                                            shuffle=shuffle,\n",
    "                                            trainingsetindex=trainingsetindex, # default\n",
    "                                            modelprefix='data_augm_00_base')\n",
    "    edit_config(str(one_train_pose_config_file_path), edits_dict)\n",
    "    edit_config(str(one_train_pose_config_file_path), train_edits_dict)"
   ]
  },
  {
   "cell_type": "code",
   "execution_count": 29,
   "metadata": {},
   "outputs": [
    {
     "name": "stdout",
     "output_type": "stream",
     "text": [
      "You passed a split with the following fraction: 88%\n",
      "The training dataset is successfully created. Use the function 'train_network' to start training. Happy training!\n",
      "You passed a split with the following fraction: 88%\n",
      "The training dataset is successfully created. Use the function 'train_network' to start training. Happy training!\n"
     ]
    },
    {
     "data": {
      "text/plain": [
       "[(0.88,\n",
       "  52,\n",
       "  (array([   0,    1,    2, ..., 1383, 1384, 1385]),\n",
       "   array([ 277,  278,  279,  280,  281,  282,  283,  284,  285,  286,  308,\n",
       "           309,  310,  311,  312,  313,  314,  315,  321,  322,  323,  324,\n",
       "           325,  332,  333,  334,  335,  336,  337,  362,  363,  364,  365,\n",
       "           366,  367,  368,  369,  376,  377,  378,  379,  380,  381,  382,\n",
       "           389,  390,  391,  392,  393,  394,  717,  718,  719,  720,  721,\n",
       "           722,  723,  724,  725,  726,  771,  772,  773,  774,  775,  776,\n",
       "           777,  778,  784,  785,  786,  787,  788,  795,  796,  797,  798,\n",
       "           799,  800,  825,  826,  827,  828,  829,  830,  831,  832,  840,\n",
       "           841,  842,  843,  844,  845,  846,  853,  854,  855,  856,  857,\n",
       "           858, 1199, 1200, 1201, 1202, 1203, 1204, 1205, 1206, 1207, 1208,\n",
       "          1230, 1231, 1232, 1233, 1234, 1235, 1236, 1237, 1243, 1244, 1245,\n",
       "          1246, 1247, 1254, 1255, 1256, 1257, 1258, 1259, 1284, 1285, 1286,\n",
       "          1287, 1288, 1289, 1290, 1291, 1299, 1300, 1301, 1302, 1303, 1304,\n",
       "          1305, 1312, 1313, 1314, 1315, 1316, 1317])))]"
      ]
     },
     "execution_count": 29,
     "metadata": {},
     "output_type": "execute_result"
    }
   ],
   "source": [
    "\n",
    "import pandas as pd\n",
    "df = pd.read_hdf('/home/jonas2/DLC_files/projects/geneva_protocol_paper_austin_2020_bat_data-DLC-2022-08-03/training-datasets/iteration-0/UnaugmentedDataSet_geneva_protocol_paper_austin_2020_bat_dataAug3/CollectedData_DLC.h5')\n",
    "image_paths = df.index.to_list()\n",
    "test_inds = []\n",
    "train_inds = []\n",
    "for i, path in enumerate(image_paths):\n",
    "    if str(path[1]).endswith(\"_A\"):\n",
    "        train_inds.append(i)\n",
    "    elif str(path[1]).endswith(\"_B\"):\n",
    "        train_inds.append(i)\n",
    "    elif str(path[1]).endswith(\"_50_test\"):\n",
    "        test_inds.append(i)\n",
    "\n",
    "deeplabcut.create_training_dataset(\n",
    "    config_path,\n",
    "    Shuffles=[51],\n",
    "    trainIndices=[train_inds],\n",
    "    testIndices=[test_inds],\n",
    "    net_type=\"resnet_50\",\n",
    "    augmenter_type=\"imgaug\"\n",
    ")\n",
    "\n",
    "deeplabcut.create_training_dataset(\n",
    "    config_path,\n",
    "    Shuffles=[52],\n",
    "    trainIndices=[train_inds],\n",
    "    testIndices=[test_inds],\n",
    "    net_type=\"resnet_101\",\n",
    "    augmenter_type=\"imgaug\"\n",
    ")"
   ]
  },
  {
   "cell_type": "code",
   "execution_count": 30,
   "metadata": {},
   "outputs": [],
   "source": [
    "edits_dict = dict()\n",
    "edits_dict[\"rotation\"] = 25\n",
    "edits_dict[\"gaussian_blur\"] = False\n",
    "edits_dict[\"gaussian_blur_params\"] = {\"sigma\": (0.5, 4.0)}\n",
    "edits_dict[\"scale_jitter_lo\"] = .5\n",
    "edits_dict[\"scale_jitter_up\"] = 1.25\n",
    "edits_dict[\"symmetric_pairs\"] = (0, 14), (1, 12), (2, 13), (3, 11), (4, 9), (5, 10)\n",
    "edits_dict[\"fliplr\"] = False\n",
    "\n",
    "## Initialise dict with additional edits to train config: optimizer\n",
    "train_edits_dict = {}\n",
    "dict_optimizer = {'optimizer':'adam',\n",
    "    'batch_size': 8,\n",
    "    'multi_step': [[1e-4, 7500], [5 * 1e-5, 12000], [1e-5, 150000]]} # if no yaml file passed, initialise as an empty dict\n",
    "train_edits_dict.update({'optimizer': dict_optimizer['optimizer'], #'adam',\n",
    "    'batch_size': dict_optimizer['batch_size'], #16,\n",
    "    'multi_step': dict_optimizer['multi_step']}) # learning rate schedule for adam: [[1e-4, 7500], [5 * 1e-5, 12000], [1e-5, 200000]]"
   ]
  },
  {
   "cell_type": "code",
   "execution_count": 32,
   "metadata": {},
   "outputs": [],
   "source": [
    "for shuffle in [51, 52]:\n",
    "    one_train_pose_config_file_path,\\\n",
    "    one_test_pose_config_file_path,\\\n",
    "    _ = deeplabcut.return_train_network_path(config_path,\n",
    "                                            shuffle=shuffle,\n",
    "                                            trainingsetindex=0, # default\n",
    "                                            modelprefix=\"\")\n",
    "    edit_config(str(one_train_pose_config_file_path), edits_dict)\n",
    "    edit_config(str(one_train_pose_config_file_path), train_edits_dict)"
   ]
  },
  {
   "cell_type": "code",
   "execution_count": 33,
   "metadata": {},
   "outputs": [
    {
     "data": {
      "text/plain": [
       "ordereddict([('/TS5-544-Cam1_2020-06-25_000090Track6_25_A.avi', ordereddict([('crop', '0, 351, 0, 351')])), ('/IL5-519-Cam2_2020-06-25_000089Track8_25_A.avi', ordereddict([('crop', '0, 351, 0, 351')])), ('/IL5-534-Cam3_2020-06-25_000085Track5_25_A.avi', ordereddict([('crop', '0, 351, 0, 351')])), ('/TS5-544-Cam1_2020-06-25_000094Track1_25_B.avi', ordereddict([('crop', '0, 301, 0, 301')])), ('/IL5-519-Cam2_2020-06-25_000093Track3_25_B.avi', ordereddict([('crop', '0, 351, 0, 351')])), ('/IL5-534-Cam3_2020-06-25_000089Track1_25_B.avi', ordereddict([('crop', '0, 351, 0, 351')])), ('/TS5-544-Cam1_2020-06-25_000099Track8_25_ref.avi', ordereddict([('crop', '0, 301, 0, 301')])), ('/IL5-519-Cam2_2020-06-25_000099Track6_25_ref.avi', ordereddict([('crop', '0, 351, 0, 351')])), ('/IL5-534-Cam3_2020-06-25_000095Track14_25_ref.avi', ordereddict([('crop', '0, 301, 0, 301')])), ('/TS5-544-Cam1_2020-06-25_000100Track5_50_B.avi', ordereddict([('crop', '0, 301, 0, 301')])), ('/IL5-519-Cam2_2020-06-25_000100Track1_50_B.avi', ordereddict([('crop', '0, 301, 0, 301')])), ('/IL5-534-Cam3_2020-06-25_000096Track2_50_B.avi', ordereddict([('crop', '0, 301, 0, 301')])), ('/TS5-544-Cam1_2020-06-25_000100Track5_25_B.avi', ordereddict([('crop', '0, 301, 0, 301')])), ('/IL5-519-Cam2_2020-06-25_000100Track1_25_B.avi', ordereddict([('crop', '0, 301, 0, 301')])), ('/IL5-534-Cam3_2020-06-25_000096Track2_25_B.avi', ordereddict([('crop', '0, 301, 0, 301')])), ('/TS5-544-Cam1_2020-06-25_000103Track3_50_test.avi', ordereddict([('crop', '0, 451, 0, 451')])), ('/IL5-519-Cam2_2020-06-25_000103Track3_50_test.avi', ordereddict([('crop', '0, 451, 0, 451')])), ('/IL5-534-Cam3_2020-06-25_000100Track4_50_test.avi', ordereddict([('crop', '0, 501, 0, 501')])), ('/TS5-544-Cam1_2020-06-25_000103Track3_25_ref.avi', ordereddict([('crop', '0, 451, 0, 451')])), ('/IL5-519-Cam2_2020-06-25_000103Track3_25_ref.avi', ordereddict([('crop', '0, 451, 0, 451')])), ('/IL5-534-Cam3_2020-06-25_000100Track4_25_ref.avi', ordereddict([('crop', '0, 501, 0, 501')])), ('/TS5-544-Cam1_2020-06-25_000104Track3_50_test.avi', ordereddict([('crop', '0, 451, 0, 451')])), ('/IL5-519-Cam2_2020-06-25_000104Track2_50_test.avi', ordereddict([('crop', '0, 501, 0, 501')])), ('/IL5-534-Cam3_2020-06-25_000101Track4_50_test.avi', ordereddict([('crop', '0, 451, 0, 451')])), ('/TS5-544-Cam1_2020-06-25_000104Track3_25_ref.avi', ordereddict([('crop', '0, 451, 0, 451')])), ('/IL5-519-Cam2_2020-06-25_000104Track2_25_ref.avi', ordereddict([('crop', '0, 501, 0, 501')])), ('/IL5-534-Cam3_2020-06-25_000101Track4_25_ref.avi', ordereddict([('crop', '0, 451, 0, 451')])), ('/TS5-544-Cam1_2020-06-25_000108Track6_50_test.avi', ordereddict([('crop', '0, 351, 0, 351')])), ('/IL5-519-Cam2_2020-06-25_000109Track1_50_test.avi', ordereddict([('crop', '0, 351, 0, 351')])), ('/IL5-534-Cam3_2020-06-25_000106Track3_50_test.avi', ordereddict([('crop', '0, 451, 0, 451')])), ('/TS5-544-Cam1_2020-06-25_000108Track6_25_ref.avi', ordereddict([('crop', '0, 351, 0, 351')])), ('/IL5-519-Cam2_2020-06-25_000109Track1_25_ref.avi', ordereddict([('crop', '0, 351, 0, 351')])), ('/IL5-534-Cam3_2020-06-25_000106Track3_25_ref.avi', ordereddict([('crop', '0, 451, 0, 451')])), ('/TS5-544-Cam1_2020-06-25_000121Track7_50_A.avi', ordereddict([('crop', '0, 401, 0, 401')])), ('/IL5-519-Cam2_2020-06-25_000122Track9_50_A.avi', ordereddict([('crop', '0, 451, 0, 451')])), ('/IL5-534-Cam3_2020-06-25_000121Track11_50_A.avi', ordereddict([('crop', '0, 426, 0, 426')])), ('/TS5-544-Cam1_2020-06-25_000121Track7_25_A.avi', ordereddict([('crop', '0, 401, 0, 401')])), ('/IL5-519-Cam2_2020-06-25_000122Track9_25_A.avi', ordereddict([('crop', '0, 451, 0, 451')])), ('/IL5-534-Cam3_2020-06-25_000121Track11_25_A.avi', ordereddict([('crop', '0, 426, 0, 426')])), ('/TS5-544-Cam1_2020-06-25_000123Track6_50_test.avi', ordereddict([('crop', '0, 351, 0, 351')])), ('/IL5-519-Cam2_2020-06-25_000124Track9_50_test.avi', ordereddict([('crop', '0, 401, 0, 401')])), ('/IL5-534-Cam3_2020-06-25_000122Track7_50_test.avi', ordereddict([('crop', '0, 401, 0, 401')])), ('/TS5-544-Cam1_2020-06-25_000123Track6_25_ref.avi', ordereddict([('crop', '0, 351, 0, 351')])), ('/IL5-519-Cam2_2020-06-25_000124Track9_25_ref.avi', ordereddict([('crop', '0, 401, 0, 401')])), ('/IL5-534-Cam3_2020-06-25_000122Track7_25_ref.avi', ordereddict([('crop', '0, 401, 0, 401')])), ('/TS5-544-Cam1_2020-06-25_000128Track2_50_test.avi', ordereddict([('crop', '0, 451, 0, 451')])), ('/IL5-519-Cam2_2020-06-25_000130Track2_50_test.avi', ordereddict([('crop', '0, 401, 0, 401')])), ('/IL5-534-Cam3_2020-06-25_000127Track4_50_test.avi', ordereddict([('crop', '0, 401, 0, 401')])), ('/TS5-544-Cam1_2020-06-25_000128Track2_25_ref.avi', ordereddict([('crop', '0, 451, 0, 451')])), ('/IL5-519-Cam2_2020-06-25_000130Track2_25_ref.avi', ordereddict([('crop', '0, 401, 0, 401')])), ('/IL5-534-Cam3_2020-06-25_000127Track4_25_ref.avi', ordereddict([('crop', '0, 401, 0, 401')])), ('/TS5-544-Cam1_2020-06-25_000134Track5_50_test.avi', ordereddict([('crop', '0, 351, 0, 351')])), ('/IL5-519-Cam2_2020-06-25_000136Track10_50_test.avi', ordereddict([('crop', '0, 401, 0, 401')])), ('/IL5-534-Cam3_2020-06-25_000133Track9_50_test.avi', ordereddict([('crop', '0, 401, 0, 401')])), ('/TS5-544-Cam1_2020-06-25_000134Track5_25_ref.avi', ordereddict([('crop', '0, 351, 0, 351')])), ('/IL5-519-Cam2_2020-06-25_000136Track10_25_ref.avi', ordereddict([('crop', '0, 401, 0, 401')])), ('/IL5-534-Cam3_2020-06-25_000133Track9_25_ref.avi', ordereddict([('crop', '0, 401, 0, 401')])), ('/TS5-544-Cam1_2020-06-25_000140Track12_25_A.avi', ordereddict([('crop', '0, 451, 0, 451')])), ('/IL5-519-Cam2_2020-06-25_000142Track10_25_A.avi', ordereddict([('crop', '0, 451, 0, 451')])), ('/IL5-534-Cam3_2020-06-25_000139Track7_25_A.avi', ordereddict([('crop', '0, 451, 0, 451')])), ('/TS5-544-Cam1_2020-06-25_000140Track12_50_A.avi', ordereddict([('crop', '0, 451, 0, 451')])), ('/IL5-519-Cam2_2020-06-25_000142Track10_50_A.avi', ordereddict([('crop', '0, 451, 0, 451')])), ('/IL5-534-Cam3_2020-06-25_000139Track7_50_A.avi', ordereddict([('crop', '0, 451, 0, 451')])), ('/TS5-544-Cam1_2020-06-25_000154Track6_50_B.avi', ordereddict([('crop', '0, 601, 0, 601')])), ('/IL5-519-Cam2_2020-06-25_000156Track4_50_B.avi', ordereddict([('crop', '0, 501, 0, 501')])), ('/IL5-534-Cam3_2020-06-25_000153Track4_50_B.avi', ordereddict([('crop', '0, 551, 0, 551')])), ('/TS5-544-Cam1_2020-06-25_000154Track6_25_B.avi', ordereddict([('crop', '0, 601, 0, 601')])), ('/IL5-519-Cam2_2020-06-25_000156Track4_25_B.avi', ordereddict([('crop', '0, 501, 0, 501')])), ('/IL5-534-Cam3_2020-06-25_000153Track4_25_B.avi', ordereddict([('crop', '0, 551, 0, 551')])), ('/TS5-544-Cam1_2020-06-25_000089Track5_A.avi', ordereddict([('crop', '0, 301, 0, 301')])), ('/IL5-519-Cam2_2020-06-25_000088Track5_A.avi', ordereddict([('crop', '0, 351, 0, 351')])), ('/IL5-534-Cam3_2020-06-25_000084Track12_A.avi', ordereddict([('crop', '0, 301, 0, 301')])), ('/TS5-544-Cam1_2020-06-25_000090Track6_50_A.avi', ordereddict([('crop', '0, 351, 0, 351')])), ('/IL5-519-Cam2_2020-06-25_000089Track8_50_A.avi', ordereddict([('crop', '0, 351, 0, 351')])), ('/IL5-534-Cam3_2020-06-25_000085Track5_50_A.avi', ordereddict([('crop', '0, 351, 0, 351')])), ('/TS5-544-Cam1_2020-06-25_000094Track1_50_B.avi', ordereddict([('crop', '0, 301, 0, 301')])), ('/IL5-519-Cam2_2020-06-25_000093Track3_50_B.avi', ordereddict([('crop', '0, 351, 0, 351')])), ('/IL5-534-Cam3_2020-06-25_000089Track1_50_B.avi', ordereddict([('crop', '0, 351, 0, 351')])), ('/TS5-544-Cam1_2020-06-25_000095Track1_B.avi', ordereddict([('crop', '0, 401, 0, 401')])), ('/IL5-519-Cam2_2020-06-25_000094Track2_B.avi', ordereddict([('crop', '0, 401, 0, 401')])), ('/IL5-534-Cam3_2020-06-25_000090Track7_B.avi', ordereddict([('crop', '0, 421, 0, 421')])), ('/TS5-544-Cam1_2020-06-25_000097Track5_A.avi', ordereddict([('crop', '0, 351, 0, 351')])), ('/IL5-519-Cam2_2020-06-25_000096Track3_A.avi', ordereddict([('crop', '0, 401, 0, 401')])), ('/IL5-534-Cam3_2020-06-25_000092Track1_A.avi', ordereddict([('crop', '0, 421, 0, 421')])), ('/TS5-544-Cam1_2020-06-25_000098Track1_B.avi', ordereddict([('crop', '0, 351, 0, 351')])), ('/IL5-519-Cam2_2020-06-25_000097Track10_B.avi', ordereddict([('crop', '0, 351, 0, 351')])), ('/IL5-534-Cam3_2020-06-25_000093Track4_B.avi', ordereddict([('crop', '0, 351, 0, 351')])), ('/TS5-544-Cam1_2020-06-25_000099Track3_A.avi', ordereddict([('crop', '0, 301, 0, 301')])), ('/IL5-519-Cam2_2020-06-25_000099Track5_A.avi', ordereddict([('crop', '0, 351, 0, 351')])), ('/IL5-534-Cam3_2020-06-25_000095Track4_A.avi', ordereddict([('crop', '0, 401, 0, 401')])), ('/TS5-544-Cam1_2020-06-25_000099Track8_50_test.avi', ordereddict([('crop', '0, 301, 0, 301')])), ('/IL5-519-Cam2_2020-06-25_000099Track6_50_test.avi', ordereddict([('crop', '0, 351, 0, 351')])), ('/IL5-534-Cam3_2020-06-25_000095Track14_50_test.avi', ordereddict([('crop', '0, 301, 0, 301')])), ('/TS5-544-Cam1_2020-06-25_000008_cropped_B.avi', ordereddict([('crop', '0, 655, 0, 997')])), ('/IL5-519-Cam2_2020-06-25_000007_cropped_B.avi', ordereddict([('crop', '0, 521, 0, 915')])), ('/IL5-534-Cam3_2020-06-25_000007_cropped_B.avi', ordereddict([('crop', '0, 508, 0, 897')])), ('/TS5-544-Cam1_2020-06-25_000024_cropped_A.avi', ordereddict([('crop', '0, 465, 0, 924')])), ('/IL5-519-Cam2_2020-06-25_000023_cropped_A.avi', ordereddict([('crop', '0, 418, 0, 772')])), ('/IL5-534-Cam3_2020-06-25_000023_cropped_A.avi', ordereddict([('crop', '0, 425, 0, 766')])), ('/TS5-544-Cam1_2020-06-25_000032_cropped_B.avi', ordereddict([('crop', '0, 447, 0, 628')])), ('/IL5-519-Cam2_2020-06-25_000031_cropped_B.avi', ordereddict([('crop', '0, 299, 0, 550')])), ('/IL5-534-Cam3_2020-06-25_000031_cropped_B.avi', ordereddict([('crop', '0, 291, 0, 504')])), ('/TS5-544-Cam1_2020-06-25_000084_cropped_A.avi', ordereddict([('crop', '0, 368, 0, 503')])), ('/IL5-519-Cam2_2020-06-25_000083_cropped_A.avi', ordereddict([('crop', '0, 290, 0, 499')])), ('/IL5-534-Cam3_2020-06-25_000079_cropped_A.avi', ordereddict([('crop', '0, 408, 0, 520')])), ('/TS5-544-Cam1_2020-06-25_000086_cropped_B.avi', ordereddict([('crop', '0, 226, 0, 417')])), ('/IL5-519-Cam2_2020-06-25_000085_cropped_B.avi', ordereddict([('crop', '0, 229, 0, 437')])), ('/IL5-534-Cam3_2020-06-25_000081_cropped_B.avi', ordereddict([('crop', '0, 269, 0, 544')])), ('/TS5-544-Cam1_2020-06-25_000091_cropped_A.avi', ordereddict([('crop', '0, 210, 0, 385')])), ('/IL5-519-Cam2_2020-06-25_000090_cropped_A.avi', ordereddict([('crop', '0, 217, 0, 381')])), ('/IL5-534-Cam3_2020-06-25_000086_cropped_A.avi', ordereddict([('crop', '0, 219, 0, 409')])), ('/TS5-544-Cam1_2020-06-25_000135_cropped_B.avi', ordereddict([('crop', '0, 196, 0, 383')])), ('/IL5-519-Cam2_2020-06-25_000137_cropped_B.avi', ordereddict([('crop', '0, 316, 0, 340')])), ('/IL5-534-Cam3_2020-06-25_000134_cropped_B.avi', ordereddict([('crop', '0, 247, 0, 370')])), ('/TS5-544-Cam1_2020-06-25_000159_cropped_A.avi', ordereddict([('crop', '0, 334, 0, 364')])), ('/IL5-519-Cam2_2020-06-25_000161_cropped_A.avi', ordereddict([('crop', '0, 518, 0, 326')])), ('/IL5-534-Cam3_2020-06-25_000158_cropped_A.avi', ordereddict([('crop', '0, 504, 0, 373')]))])"
      ]
     },
     "execution_count": 33,
     "metadata": {},
     "output_type": "execute_result"
    }
   ],
   "source": [
    "videolist"
   ]
  },
  {
   "cell_type": "code",
   "execution_count": 34,
   "metadata": {},
   "outputs": [
    {
     "data": {
      "text/plain": [
       "('/TS5-544-Cam1_2020-06-25_000090Track6_25_A.avi',\n",
       " [('crop', '0, 351, 0, 351')])"
      ]
     },
     "execution_count": 34,
     "metadata": {},
     "output_type": "execute_result"
    }
   ],
   "source": [
    "('/TS5-544-Cam1_2020-06-25_000090Track6_25_A.avi', ([('crop', '0, 351, 0, 351')]))"
   ]
  },
  {
   "cell_type": "code",
   "execution_count": 35,
   "metadata": {},
   "outputs": [],
   "source": [
    "dummyConfig = \"/home/jonas2/DLC_files/projects/config.yaml\""
   ]
  },
  {
   "cell_type": "code",
   "execution_count": 38,
   "metadata": {},
   "outputs": [
    {
     "data": {
      "text/plain": [
       "ordereddict([('Task', 'bat_augmentation_austin_2020_bat_data'), ('scorer', 'DLC'), ('date', 'Aug18'), ('multianimalproject', False), ('identity', None), ('project_path', '/home/jonas2/DLC_files/projects/bat_augmentation_austin_2020_bat_data-DLC-2022-08-18'), ('video_sets', {'/TS5-544-Cam1_2020-06-25_000090Track6_25_A.avi': {'crop': '0, 351, 0, 351'}}), ('bodyparts', ['t3L', 'wstL', 't5L', 'elbL', 'shdL', 'ankL', 'nl', 'str', 'lmb', 'shdR', 'ankR', 'elbR', 'wstR', 't5R', 't3R', 'tail']), ('start', 0), ('stop', 1), ('numframes2pick', 20), ('skeleton', [['bodypart1', 'bodypart2'], ['objectA', 'bodypart3']]), ('skeleton_color', 'black'), ('pcutoff', 0.6), ('dotsize', 12), ('alphavalue', 0.7), ('colormap', 'rainbow'), ('TrainingFraction', [0.88]), ('iteration', 0), ('default_net_type', 'resnet_50'), ('default_augmenter', 'default'), ('snapshotindex', -1), ('batch_size', 8), ('cropping', False), ('x1', 0), ('x2', 640), ('y1', 277), ('y2', 624), ('corner2move2', [50, 50]), ('move2corner', True)])"
      ]
     },
     "execution_count": 38,
     "metadata": {},
     "output_type": "execute_result"
    }
   ],
   "source": [
    "edit_config(dummyConfig,{'video_sets':{'/TS5-544-Cam1_2020-06-25_000090Track6_25_A.avi': {'crop': '0, 351, 0, 351'}}})"
   ]
  },
  {
   "cell_type": "code",
   "execution_count": 39,
   "metadata": {},
   "outputs": [],
   "source": [
    "labeled_data_folder = \"/home/jonas2/DLC_files/projects/bat_augmentation_austin_2020_bat_data-DLC-2022-08-18/labeled-data\""
   ]
  },
  {
   "cell_type": "code",
   "execution_count": 42,
   "metadata": {},
   "outputs": [],
   "source": [
    "import os\n",
    "labeled_data_folders=os.listdir(labeled_data_folder)"
   ]
  },
  {
   "cell_type": "code",
   "execution_count": 50,
   "metadata": {},
   "outputs": [],
   "source": [
    "from PIL import Image\n",
    "images=os.listdir(os.path.join(labeled_data_folder,labeled_data_folders[0]))\n",
    "img=Image.open(os.path.join(labeled_data_folder,labeled_data_folders[0],images[3]))"
   ]
  },
  {
   "cell_type": "code",
   "execution_count": 51,
   "metadata": {},
   "outputs": [
    {
     "name": "stdout",
     "output_type": "stream",
     "text": [
      "The height of the image is:  401\n",
      "The width of the image is:  401\n"
     ]
    }
   ],
   "source": [
    "width = img.width\n",
    "height = img.height\n",
    "  \n",
    "# display width and height\n",
    "print(\"The height of the image is: \", height)\n",
    "print(\"The width of the image is: \", width)"
   ]
  },
  {
   "cell_type": "markdown",
   "metadata": {},
   "source": [
    "Recovered from ipython history"
   ]
  },
  {
   "cell_type": "code",
   "execution_count": null,
   "metadata": {},
   "outputs": [],
   "source": [
    "         In [1]: import shutil\n",
    "   ...: from deeplabcut.utils.auxiliaryfunctions import read_config, edit_config\n",
    "   ...: model_number = 2\n",
    "   ...: modelprefix_pre = 'data_augm'\n",
    "   ...: daug_str = 'fliplr_rotate'\n",
    "   ...: TRAINING_SET_INDEX = 0\n",
    "   ...: TRAIN_ITERATION = 0\n",
    "   ...: \n",
    "   ...: #%%\n",
    "   ...: ### Get config as dict and associated paths\n",
    "   ...: cfg = read_config(config_path)\n",
    "   ...: project_path = cfg[\"project_path\"] # or: os.path.dirname(config_path) #dlc_models_path = os.path.join(project_path, \"dlc-models\")\n",
    "   ...: training_datasets_path = os.path.join(project_path, \"training-datasets\")\n",
    "   ...: #%%\n",
    "   ...: # Get shuffles\n",
    "   ...: shuffles = [1,2,3,4]\n",
    "   ...: trainingsetindices = [0, 1, 2, 3]\n",
    "   ...: # %%\n",
    "   ...: # Get train and test pose config file paths from base project, for each shuffle\n",
    "   ...: list_base_train_pose_config_file_paths = []\n",
    "   ...: list_base_test_pose_config_file_paths = []\n",
    "         ...: for shuffle_number, trainingsetindex in zip(shuffles, trainingsetindices):\n",
    "   ...:     base_train_pose_config_file_path_TEMP,\\\n",
    "   ...:     base_test_pose_config_file_path_TEMP,\\\n",
    "   ...:     _ = deeplabcut.return_train_network_path(config_path,\n",
    "   ...:                                             shuffle=shuffle_number,\n",
    "   ...:                                             trainingsetindex=trainingsetindex)  # base_train_pose_config_file\n",
    "   ...:     list_base_train_pose_config_file_paths.append(base_train_pose_config_file_path_TEMP)\n",
    "   ...:     list_base_test_pose_config_file_paths.append(base_test_pose_config_file_path_TEMP)\n",
    "   ...: # %%\n",
    "   ...: # Create subdirs for this augmentation method\n",
    "   ...: model_prefix = '_'.join([modelprefix_pre, \"{0:0=2d}\".format(model_number), daug_str]) # modelprefix_pre = aug_\n",
    "   ...: aug_project_path = os.path.join(project_path, model_prefix)\n",
    "   ...: aug_dlc_models = os.path.join(aug_project_path, \"dlc-models\", )\n",
    "   ...: aug_training_datasets = os.path.join(aug_project_path, \"training-datasets\")\n",
    "   ...: try:\n",
    "   ...:     os.mkdir(aug_project_path)\n",
    "   ...: except OSError as error:\n",
    "   ...:     print(error)\n",
    "   ...:     print(\"Skipping this one as it already exists\")\n",
    "      ...: # %%\n",
    "   ...: # Copy base train pose config file to the directory of this augmentation method\n",
    "   ...: list_train_pose_config_path_per_shuffle = []\n",
    "   ...: list_test_pose_config_path_per_shuffle = []\n",
    "   ...: for j, (shuffle, trainingsetindex) in enumerate(zip(shuffles,trainingsetindices)):\n",
    "   ...:     one_train_pose_config_file_path,\\\n",
    "   ...:     one_test_pose_config_file_path,\\\n",
    "   ...:     _ = deeplabcut.return_train_network_path(config_path,\n",
    "   ...:                                             shuffle=shuffle,\n",
    "   ...:                                             trainingsetindex=trainingsetindex, # default\n",
    "   ...:                                             modelprefix=model_prefix)\n",
    "   ...:     # make train and test directories for this subdir\n",
    "   ...:     os.makedirs(str(os.path.dirname(one_train_pose_config_file_path))) # create parentdir 'train'\n",
    "   ...:     os.makedirs(str(os.path.dirname(one_test_pose_config_file_path))) # create parentdir 'test\n",
    "   ...:     # copy test and train config from base project to this subdir\n",
    "   ...:     # copy base train config file\n",
    "   ...:     shutil.copyfile(list_base_train_pose_config_file_paths[j],\n",
    "   ...:                         one_train_pose_config_file_path)\n",
    "   ...:     # copy base test config file\n",
    "   ...:     shutil.copyfile(list_base_test_pose_config_file_paths[j],\n",
    "   ...:                         one_test_pose_config_file_path)\n",
    "   ...:    # add to list\n",
    "   ...:     list_train_pose_config_path_per_shuffle.append(one_train_pose_config_file_path)\n",
    "   ...:     list_test_pose_config_path_per_shuffle.append(one_test_pose_config_file_path)\n",
    "   ...: # %%\n",
    "   ...: edits_dict = dict()\n",
    "   ...: edits_dict[\"rotation\"] = 90\n",
    "   ...: edits_dict[\"gaussian_blur\"] = False\n",
    "   ...: edits_dict[\"gaussian_blur_params\"] = {\"sigma\": (0.5, 4.0)}\n",
    "   ...: edits_dict[\"scale_jitter_lo\"] = .5\n",
    "   ...: edits_dict[\"scale_jitter_up\"] = 1.25\n",
    "   ...: edits_dict[\"symmetric_pairs\"] = (0, 14), (1, 12), (2, 13), (3, 11), (4, 9), (5, 10)\n",
    "   ...: edits_dict[\"fliplr\"] = True\n",
    "   ...: \n",
    "   ...: ## Initialise dict with additional edits to train config: optimizer\n",
    "   ...: train_edits_dict = {}\n",
    "   ...: dict_optimizer = {'optimizer':'adam',\n",
    "   ...:     'batch_size': 8,\n",
    "   ...:     'multi_step': [[1e-4, 7500], [5 * 1e-5, 12000], [1e-5, 200000]]} # if no yaml file passed, initialise as an empty dict\n",
    "   ...: train_edits_dict.update({'optimizer': dict_optimizer['optimizer'], #'adam',\n",
    "   ...:     'batch_size': dict_optimizer['batch_size'], #16,\n",
    "   ...:     'multi_step': dict_optimizer['multi_step']}) # learning rate schedule for adam: [[1e-4, 7500], [5 * 1e-5, 12000], [1e-5, 200000]]\n",
    "   ...: \n",
    "   ...: # %%\n",
    "   ...: for j, shuffle in enumerate(shuffles):\n",
    "   ...:     edit_config(str(list_train_pose_config_path_per_shuffle[j]), edits_dict)\n",
    "   ...:     edit_config(str(list_train_pose_config_path_per_shuffle[j]),\n",
    "   ...:                         train_edits_dict)"
   ]
  },
  {
   "cell_type": "code",
   "execution_count": null,
   "metadata": {},
   "outputs": [],
   "source": [
    "In [1]: import matplotlib.pyplot as plt\n",
    "   ...: plt.errorbar(np.array([50,100,150])-1,np.nanmean(error_distributions[0,:],axis=1), np.nanstd(error_distributions[0,:],axis=1)/len(test_inds)**.5)\n",
    "   ...: plt.errorbar(np.array([50,100,150])+1,np.nanmean(error_distributions[1,:],axis=1), np.nanstd(error_distributions[1,:],axis=1)/len(test_inds)**.5)\n",
    "   ...: plt.xticks([50, 100, 150])\n",
    "   ...: plt.ylabel(\"Error (px)\")\n",
    "   ...: plt.xlabel(\"Iterations (thousands)\")\n",
    "   ...: plt.legend([\"ResNet-50\",\"ResNet-150\"])\n",
    " In [1]: from scipy.stats import wilcoxon\n",
    "   ...: for snapshot in [0,1,2]:\n",
    "   ...:     w, p_val = wilcoxon(x = error_distributions[0,snapshot,:], y = error_distributions[1,snapshot,:],nan_policy='omit')\n",
    "   ...:     print(\"p-value for snapshot\", snapshot, \"=\", p_val)"
   ]
  },
  {
   "cell_type": "code",
   "execution_count": null,
   "metadata": {},
   "outputs": [],
   "source": [
    "In [1]: import matplotlib.pyplot as plt\n",
    "   ...: plt.errorbar(np.array([50,100,150])-1,np.nanmean(error_distributions[0,:],axis=1), np.nanstd(error_distributions[0,:],axis=1)/len(test_inds)**.5)\n",
    "   ...: plt.errorbar(np.array([50,100,150])+1,np.nanmean(error_distributions[1,:],axis=1), np.nanstd(error_distributions[1,:],axis=1)/len(test_inds)**.5)\n",
    "   ...: plt.xticks([50, 100, 150])\n",
    "   ...: plt.ylabel(\"Error (px)\")\n",
    "   ...: plt.xlabel(\"Iterations (thousands)\")\n",
    "   ...: plt.legend([\"ResNet-50\",\"ResNet-150\"])"
   ]
  },
  {
   "cell_type": "markdown",
   "metadata": {},
   "source": [
    "# Statistically compare ResNet-50 to ResNet-101\n",
    "Aftrer training the networks, we need to test if one performs better. To do that, we first need to evaluate them using the buil-in DeepLabCut method ```evaluate_network```."
   ]
  },
  {
   "cell_type": "code",
   "execution_count": null,
   "metadata": {},
   "outputs": [],
   "source": [
    "import deeplabcut\n",
    "config_path = \"/home/jonas2/DLC_files/projects/bat_augmentation_austin_2020_bat_data-DLC-2022-08-18/config.yaml\"\n",
    "model_prefix = '' #we are not yet using model prefixes, but we will later\n",
    "Shuffles = [51,52]\n",
    "trainingsetindex = 2 # this might also be zero, see block below\n",
    "\n",
    "deeplabcut.evaluate_network(config_path, modelprefix = model_prefix, Shuffles = Shuffles, trainingsetindex=trainingsetindex)"
   ]
  },
  {
   "cell_type": "markdown",
   "metadata": {},
   "source": [
    "### Regaridng trainingsetindex\n",
    "We often use different splits between training and testing data. This is a number < 1 that sets the proportion of the training dataset that should be used for training and testing. The defail is 0.95, meaning 95% is used for training, and 5& for testing. This can be either be specified in the config.yaml file or deduced automatically by DeepLabCut if we manually specify the training and testing indices (like we did). In the case of the latter, the split is indicated by the filenames of the the files in the training-dataset folder in the project folder. In my case this would be:\n",
    "```\n",
    "/home/jonas2/DLC_files/projects/bat_augmentation_austin_2020_bat_data-DLC-2022-08-18/training-datasets/iteration-0/UnaugmentedDataSet_bat_augmentation_austin_2020_bat_dataAug18\n",
    "```\n",
    "\n",
    "Let's look at the contents of that folder to deduce the training splits."
   ]
  },
  {
   "cell_type": "code",
   "execution_count": 68,
   "metadata": {},
   "outputs": [
    {
     "name": "stdout",
     "output_type": "stream",
     "text": [
      "Documentation_data-bat_augmentation_austin_2020_bat_data_88shuffle51.pickle\n",
      "bat_augmentation_austin_2020_bat_data_DLC88shuffle3.mat\n",
      "bat_augmentation_austin_2020_bat_data_DLC80shuffle1.mat\n",
      "bat_augmentation_austin_2020_bat_data_DLC88shuffle52.mat\n",
      "Documentation_data-bat_augmentation_austin_2020_bat_data_80shuffle1.pickle\n",
      "CollectedData_DLC.h5\n",
      "CollectedData_DLC.csv\n",
      "bat_augmentation_austin_2020_bat_data_DLC89shuffle4.mat\n",
      "Documentation_data-bat_augmentation_austin_2020_bat_data_88shuffle3.pickle\n",
      "bat_augmentation_austin_2020_bat_data_DLC84shuffle2.mat\n",
      "Documentation_data-bat_augmentation_austin_2020_bat_data_84shuffle2.pickle\n",
      "Documentation_data-bat_augmentation_austin_2020_bat_data_89shuffle4.pickle\n",
      "bat_augmentation_austin_2020_bat_data_DLC95shuffle99.mat\n",
      "Documentation_data-bat_augmentation_austin_2020_bat_data_88shuffle52.pickle\n",
      "bat_augmentation_austin_2020_bat_data_DLC88shuffle51.mat\n",
      "Documentation_data-bat_augmentation_austin_2020_bat_data_95shuffle99.pickle\n"
     ]
    }
   ],
   "source": [
    "import os\n",
    "files = os.listdir(\"/home/jonas2/DLC_files/projects/bat_augmentation_austin_2020_bat_data-DLC-2022-08-18/training-datasets/iteration-0/UnaugmentedDataSet_bat_augmentation_austin_2020_bat_dataAug18\")\n",
    "print(*files,sep='\\n')"
   ]
  },
  {
   "cell_type": "markdown",
   "metadata": {},
   "source": [
    "I've worked ahead already so I have shuffles not yet covered by this post, but we see files related to our shuffles (51 and 52):\n",
    "- bat_augmentation_austin_2020_bat_data_DLC88shuffle51.mat\n",
    "- bat_augmentation_austin_2020_bat_data_DLC88shuffle52.mat\n",
    "- Documentation_data-bat_augmentation_austin_2020_bat_data_88shuffle51.pickle\n",
    "- Documentation_data-bat_augmentation_austin_2020_bat_data_88shuffle52.pickle\n",
    "\n",
    "In these filenames, we see a number before the text 'shuffle51' and 'shuffle52'. This number is the training split, meaning with our manual training indices, we are training on 88% of the total data.\n",
    "\n",
    "In config.yaml, there is a property called ```TrainingFraction```. This is a list of the training splits used in the project. In my project, since I've worked ahead a bit further than described here, I modified that list in my config file to look like this:\n",
    "\n",
    "![TrainingFraction](img/config002_TrainingFraction.png)\n",
    "\n",
    "I've listed my training fractions from smallest to largest.\n",
    "\n",
    "The point I'm making is that when using any function that refers to a shuffle, if you have several training fractions, you need to specify that too. That is why, when calling the function ```evaluate_network```, I specified that\n",
    "```\n",
    "trainingsetindex = 2\n",
    "```\n",
    "Since, with the first index being zero, 0.88 has the index 2."
   ]
  },
  {
   "cell_type": "markdown",
   "metadata": {},
   "source": [
    "\n",
    "### Get data for statistical comparison\n",
    "The ```evaluate_network``` function calculates the euclidian distances between predicted points and groundtruth (i.e. human labels), but it only shows the average for that snapshot and shuffle over all the test data. What we want are long lists of the distances between ground truth points and predicted points. That way, on top of calculating the average, we can also perform stastistical testing.\n",
    "\n",
    "We will use a function I wrote called ```getErrorDistribution``` to get the list mentioned above. But first, let's again make sure we have the indices of the frames we're testing on."
   ]
  },
  {
   "cell_type": "code",
   "execution_count": 7,
   "metadata": {},
   "outputs": [
    {
     "name": "stdout",
     "output_type": "stream",
     "text": [
      "This net has already been evaluated!\n",
      "This net has already been evaluated!\n",
      "This net has already been evaluated!\n",
      "This net has already been evaluated!\n",
      "This net has already been evaluated!\n",
      "This net has already been evaluated!\n"
     ]
    }
   ],
   "source": [
    "#We need pandas to define read the list of training data\n",
    "import pandas as pd\n",
    "df = pd.read_hdf('/home/jonas2/DLC_files/projects/bat_augmentation_austin_2020_bat_data-DLC-2022-08-18/training-datasets/iteration-0/UnaugmentedDataSet_bat_augmentation_austin_2020_bat_dataAug18/CollectedData_DLC.h5')\n",
    "config_path = \"/home/jonas2/DLC_files/projects/bat_augmentation_austin_2020_bat_data-DLC-2022-08-18/config.yaml\"\n",
    "image_paths = df.index.to_list()\n",
    "\n",
    "#We then specify our training and testing data based on the names\n",
    "# we've given the training folders in 'labeled-data'\n",
    "test_inds = []\n",
    "train_inds = []\n",
    "\n",
    "for i, path in enumerate(image_paths):\n",
    "   if str(path[1]).endswith(\"_A\"):\n",
    "      train_inds.append(i)\n",
    "   elif str(path[1]).endswith(\"_B\"):\n",
    "      train_inds.append(i)\n",
    "   elif str(path[1]).endswith(\"_50_test\"):\n",
    "      test_inds.append(i)\n"
   ]
  },
  {
   "cell_type": "markdown",
   "metadata": {},
   "source": [
    "Now we can get the error distribution for both shuffles and put them in an array."
   ]
  },
  {
   "cell_type": "code",
   "execution_count": null,
   "metadata": {},
   "outputs": [],
   "source": [
    "\n",
    "import sys\n",
    "sys.path.append('..')\n",
    "from getErrorDistribution import getErrorDistribution #import the getErrorDistribution function\n",
    "import numpy as np\n",
    "error_distributions = []\n",
    "error_distributions_pcut = []\n",
    "for shuffle in [51,52]:\n",
    "   error_distributions_temp = []\n",
    "   error_distributions_pcut_temp = []\n",
    "   for snapshot in [0,1,2]: #we saved three snapshots, one at 50k iteratinos, one at 100k, and one at 150k\n",
    "      (\n",
    "            ErrorDistribution_all,\n",
    "            ErrorDistribution_test,\n",
    "            ErrorDistribution_train,\n",
    "            ErrorDistributionPCutOff_all,\n",
    "            _,\n",
    "            _\n",
    "      )  = getErrorDistribution(\n",
    "            config_path,\n",
    "            shuffle=shuffle,\n",
    "            snapindex=snapshot,\n",
    "            trainFractionIndex = 2,\n",
    "            modelprefix = \"\"\n",
    "      )\n",
    "      error_distributions_temp.append(ErrorDistribution_all.iloc[test_inds].values.flatten())\n",
    "      error_distributions_pcut_temp.append(ErrorDistributionPCutOff_all.iloc[test_inds].values.flatten())\n",
    "   error_distributions.append(error_distributions_temp)\n",
    "   error_distributions_pcut.append(error_distributions_pcut_temp)\n",
    "error_distributions = np.array(error_distributions) # array with dimensions [shuffle, snapshot, frames]\n",
    "error_distributions_pcut = np.array(error_distributions_pcut) # array with dimensions [shuffle, snapshot, frames]"
   ]
  },
  {
   "cell_type": "markdown",
   "metadata": {},
   "source": [
    "### Compare and plot\n",
    "To compare  the two base networks, we'll plot the mean of the pixel error as a function of number of training iterations for both base networks (shuffle 51 and 52). We'll use the pyplot function ```errorbar``` to plot with error bars for the standard error (standard deviation divided by the square root of the number of data points).\n",
    "\n",
    "For the statistical comparison, we'll use a paired Wilcoxon ranked sum test, since we can assume the data to be normally distributed. We'll do this for all the predicted points as well as for all the predicted points with a confidence above 60%."
   ]
  },
  {
   "cell_type": "code",
   "execution_count": 80,
   "metadata": {},
   "outputs": [
    {
     "name": "stdout",
     "output_type": "stream",
     "text": [
      "Compare ResNet-50 and ResNet-101:\n",
      "\n"
     ]
    },
    {
     "data": {
      "image/png": "[encoded data removed]",
      "text/plain": [
       "<Figure size 720x576 with 3 Axes>"
      ]
     },
     "metadata": {
      "needs_background": "light"
     },
     "output_type": "display_data"
    }
   ],
   "source": [
    "import matplotlib.pyplot as plt\n",
    "import numpy as np\n",
    "from scipy.stats import wilcoxon\n",
    "\n",
    "print(\"Compare ResNet-50 and ResNet-101:\")\n",
    "fig, (ax1,ax2) = plt.subplots(1,2)\n",
    "fig.set_figheight(8)\n",
    "fig.set_figwidth(10)\n",
    "\n",
    "ax1.errorbar(np.array([50,100,150])-1,np.nanmean(error_distributions[0,:],axis=1), np.nanstd(error_distributions[0,:],axis=1)/len(test_inds)**.5)\n",
    "ax1.errorbar(np.array([50,100,150])+1,np.nanmean(error_distributions[1,:],axis=1), np.nanstd(error_distributions[1,:],axis=1)/len(test_inds)**.5)\n",
    "ax1.set_xticks([50, 100, 150])\n",
    "ax1.set_xlim([25,175])\n",
    "ax1.set_ylim([8,23])\n",
    "ax1.set_title(\"Without P-cut\")\n",
    "\n",
    "ax2.errorbar(np.array([50,100,150])-1,np.nanmean(error_distributions_pcut[0,:],axis=1), np.nanstd(error_distributions_pcut[0,:],axis=1)/len(test_inds)**.5)\n",
    "ax2.errorbar(np.array([50,100,150])+1,np.nanmean(error_distributions_pcut[1,:],axis=1), np.nanstd(error_distributions_pcut[1,:],axis=1)/len(test_inds)**.5)\n",
    "ax2.set_xticks([50, 100, 150])\n",
    "ax2.set_yticklabels([])\n",
    "ax2.set_xlim([25,175])\n",
    "ax2.set_ylim([8,23])\n",
    "ax2.set_title(\"With P-cut 0.6\")\n",
    "\n",
    "#print the p values below the curve\n",
    "for x,snapshot in zip(np.array([50,100,150]),[0,1,2]):\n",
    "    # get p value\n",
    "    w, p_val = wilcoxon(x = error_distributions[0,snapshot,:], y = error_distributions[1,snapshot,:],nan_policy='omit')\n",
    "    label = \"p: \"+ \"{:.2f}\".format(p_val)\n",
    "\n",
    "    ax1.annotate(label, # this is the text\n",
    "                 (x,11), # these are the coordinates to position the label\n",
    "                 textcoords=\"offset points\", # how to position the text\n",
    "                 xytext=(0,11), # distance from text to points (x,y)\n",
    "                 ha='center') # horizontal alignment can be left, right or center\n",
    "    \n",
    "    w, p_val = wilcoxon(x = error_distributions_pcut[0,snapshot,:], y = error_distributions_pcut[1,snapshot,:],nan_policy='omit')    \n",
    "    label = \"p: \"+ \"{:.2f}\".format(p_val)\n",
    "\n",
    "    ax2.annotate(label, # this is the text\n",
    "                 (x,9), # these are the coordinates to position the label\n",
    "                 textcoords=\"offset points\", # how to position the text\n",
    "                 xytext=(0,10), # distance from text to points (x,y)\n",
    "                 ha='center') # horizontal alignment can be left, right or center\n",
    "\n",
    "# add a big axis, hide frame\n",
    "fig.add_subplot(111, frameon=False)\n",
    "# hide tick and tick label of the big axis\n",
    "plt.tick_params(labelcolor='none', which='both', top=False, bottom=False, left=False, right=False)\n",
    "plt.xlabel(\"Iterations (thousands)\")\n",
    "plt.ylabel(\"Error (px)\")\n",
    "\n",
    "print('')\n"
   ]
  },
  {
   "cell_type": "markdown",
   "metadata": {},
   "source": [
    "### Base network conclusion\n",
    "From the plot above, it appears that ResNet-101 performs slightly better but this difference isn't statistically significant.\n",
    "\n",
    "We'll use ResNet-50 going forward, but should return to this test after the relevant augmentation has been applied. Ideally, we'll get significantly better performance and then maybe ResNet-101 will perform significantly better than ResNet-50."
   ]
  },
  {
   "cell_type": "markdown",
   "metadata": {},
   "source": [
    "## Structuring the project for testing\n",
    "\n",
    "Since bats are such a challenging animal to automatcially digitize, in my lab, we've been relying on what I call \"refining\" to improve DLC accuracy. This just means that for each video that we want to analyze, we first digitize a few frames from it, approximately one frame per wingbeat. For a wingbeat frequency of 15 and a framerate of 800, this means approximately every 50th frame. For a lower framerate, say 400, we instead need to digitize every 50th frame. This is obviously less labour than digitizing every frame, but the workflow still scales poorly with increased aquisition. Therefore, I want to reduce the required amount of manual digitization. The challenge I've set myself is therefore this - **to use augmentation to match or beat the accuracy of refining**.\n",
    "\n",
    "### Test data\n",
    "I randomly chose seven digitized triplets of videos for testing. Every 50th frame of these will be used for testing\n",
    "\n",
    "### Treatments\n",
    "I will use two \"treatments\" for testing. Firstly, I simply test how increasing the amount of training data affects accuracy. Secondly, I test how adding refining data affects accuracy. The result is a four permutations of treatments in total, sorted into four shuffles as shown in *table 1*.\n",
    "\n",
    "#### Refining\n",
    "The seven testing video triplets have had every 25th frame digitized. Frames 50, 100, 150, ... is used for testing. In this treatment, frames 25, 75, 175, ... will be used for used as training data, i.e. refining. I call the networks not trained on refining data OOD for out of domain and the ones traioned on refining data Ref for refining.\n",
    "\n",
    "#### Amount of training data\n",
    "Subtracting the seven testing video triplets, I'm left with 19 (57 videos in total). I then randomly split these into two groups of 9 and 10. I will either train on only 10 of these video triplets, or on all 19. I call these treatments \"half\" and \"full\".\n",
    "\n",
    "This treatment might not seem relevant for figuring out how augmentation affects performance, and in truth, I chose to perform this test to answer another question, but you will see that the results of this test are very relevant to the question.\n",
    "\n",
    "*Table 1: The two treatments result in four permutations, organized in four shuffles.*\n",
    "|       |**Half**|**Full**|\n",
    "|-------|--------|--------|\n",
    "|**OOD**|shuffle1|shuffle2|\n",
    "|**Ref**|shuffle3|shuffle4|"
   ]
  },
  {
   "cell_type": "markdown",
   "metadata": {},
   "source": [
    "\n",
    "\n",
    "One way of structuring a DLC project into something like subprojects is by using modelprefixes and folders. Basically, if you copy a dlc-model folder (in my case, found in ```/home/jonas2/DLC_files/projects/bat_augmentation_austin_2020_bat_data-DLC-2022-08-18/dlc-models/iteration-0```) into a subfolder in the project, you can then interact with the copied dlc model by using the argument ```modelprefix```.\n",
    "\n"
   ]
  },
  {
   "cell_type": "code",
   "execution_count": 1,
   "metadata": {},
   "outputs": [
    {
     "name": "stderr",
     "output_type": "stream",
     "text": [
      "2022-08-25 10:30:31.750769: I tensorflow/core/util/util.cc:169] oneDNN custom operations are on. You may see slightly different numerical results due to floating-point round-off errors from different computation orders. To turn them off, set the environment variable `TF_ENABLE_ONEDNN_OPTS=0`.\n"
     ]
    },
    {
     "name": "stdout",
     "output_type": "stream",
     "text": [
      "Loading DLC 2.2.1.1...\n"
     ]
    },
    {
     "name": "stderr",
     "output_type": "stream",
     "text": [
      "/home/jonas2/miniconda/envs/dlc/lib/python3.8/site-packages/statsmodels/compat/pandas.py:65: FutureWarning: pandas.Int64Index is deprecated and will be removed from pandas in a future version. Use pandas.Index with the appropriate dtype instead.\n",
      "  from pandas import Int64Index as NumericIndex\n"
     ]
    },
    {
     "name": "stdout",
     "output_type": "stream",
     "text": [
      "DLC loaded in light mode; you cannot use any GUI (labeling, relabeling and standalone GUI)\n",
      "Help on function create_training_dataset in module deeplabcut.generate_training_dataset.trainingsetmanipulation:\n",
      "\n",
      "create_training_dataset(config, num_shuffles=1, Shuffles=None, windows2linux=False, userfeedback=False, trainIndices=None, testIndices=None, net_type=None, augmenter_type=None, posecfg_template=None)\n",
      "    Creates a training dataset.\n",
      "    \n",
      "    Labels from all the extracted frames are merged into a single .h5 file.\n",
      "    Only the videos included in the config file are used to create this dataset.\n",
      "    \n",
      "    Parameters\n",
      "    ----------\n",
      "    config : string\n",
      "        Full path of the ``config.yaml`` file as a string.\n",
      "    \n",
      "    num_shuffles : int, optional, default=1\n",
      "        Number of shuffles of training dataset to create, i.e. ``[1,2,3]`` for\n",
      "        ``num_shuffles=3``.\n",
      "    \n",
      "    Shuffles: list[int], optional\n",
      "        Alternatively the user can also give a list of shuffles.\n",
      "    \n",
      "    userfeedback: bool, optional, default=False\n",
      "        If ``False``, all requested train/test splits are created (no matter if they\n",
      "        already exist). If you want to assure that previous splits etc. are not\n",
      "        overwritten, set this to ``True`` and you will be asked for each split.\n",
      "    \n",
      "    trainIndices: list of lists, optional, default=None\n",
      "        List of one or multiple lists containing train indexes.\n",
      "        A list containing two lists of training indexes will produce two splits.\n",
      "    \n",
      "    testIndices: list of lists, optional, default=None\n",
      "        List of one or multiple lists containing test indexes.\n",
      "    \n",
      "    net_type: list, optional, default=None\n",
      "        Type of networks. Currently supported options are\n",
      "    \n",
      "        * ``resnet_50``\n",
      "        * ``resnet_101``\n",
      "        * ``resnet_152``\n",
      "        * ``mobilenet_v2_1.0``\n",
      "        * ``mobilenet_v2_0.75``\n",
      "        * ``mobilenet_v2_0.5``\n",
      "        * ``mobilenet_v2_0.35``\n",
      "        * ``efficientnet-b0``\n",
      "        * ``efficientnet-b1``\n",
      "        * ``efficientnet-b2``\n",
      "        * ``efficientnet-b3``\n",
      "        * ``efficientnet-b4``\n",
      "        * ``efficientnet-b5``\n",
      "        * ``efficientnet-b6``\n",
      "    \n",
      "    augmenter_type: string, optional, default=None\n",
      "        Type of augmenter. Currently supported augmenters are\n",
      "        \n",
      "        * ``default``\n",
      "        * ``scalecrop``\n",
      "        * ``imgaug``\n",
      "        * ``tensorpack``\n",
      "        * ``deterministic``\n",
      "    \n",
      "    posecfg_template: string, optional, default=None\n",
      "        Path to a ``pose_cfg.yaml`` file to use as a template for generating the new\n",
      "        one for the current iteration. Useful if you would like to start with the same\n",
      "        parameters a previous training iteration. None uses the default\n",
      "        ``pose_cfg.yaml``.\n",
      "    \n",
      "    Returns\n",
      "    -------\n",
      "    list(tuple) or None\n",
      "        If training dataset was successfully created, a list of tuples is returned.\n",
      "        The first two elements in each tuple represent the training fraction and the\n",
      "        shuffle value. The last two elements in each tuple are arrays of integers\n",
      "        representing the training and test indices.\n",
      "    \n",
      "        Returns None if training dataset could not be created.\n",
      "    \n",
      "    Notes\n",
      "    -----\n",
      "    Use the function ``add_new_videos`` at any stage of the project to add more videos\n",
      "    to the project.\n",
      "    \n",
      "    Examples\n",
      "    --------\n",
      "    \n",
      "    Linux/MacOS\n",
      "    \n",
      "    >>> deeplabcut.create_training_dataset(\n",
      "            '/analysis/project/reaching-task/config.yaml', num_shuffles=1,\n",
      "        )\n",
      "    \n",
      "    Windows\n",
      "    \n",
      "    >>> deeplabcut.create_training_dataset(\n",
      "            'C:\\Users\\Ulf\\looming-task\\config.yaml', Shuffles=[3,17,5],\n",
      "        )\n",
      "\n"
     ]
    },
    {
     "name": "stderr",
     "output_type": "stream",
     "text": [
      "/home/jonas2/DeepLabCut/deeplabcut/__init__.py:81: UserWarning: \n",
      "        As PyTorch is not installed, unsupervised identity learning will not be available.\n",
      "        Please run `pip install torch`, or ignore this warning.\n",
      "        \n",
      "  warnings.warn(\n"
     ]
    }
   ],
   "source": [
    "import deeplabcut\n",
    "help(deeplabcut.create_training_dataset)"
   ]
  },
  {
   "cell_type": "code",
   "execution_count": null,
   "metadata": {},
   "outputs": [],
   "source": []
  }
 ],
 "metadata": {
  "kernelspec": {
   "display_name": "Python 3.8.13 ('dlc')",
   "language": "python",
   "name": "python3"
  },
  "language_info": {
   "codemirror_mode": {
    "name": "ipython",
    "version": 3
   },
   "file_extension": ".py",
   "mimetype": "text/x-python",
   "name": "python",
   "nbconvert_exporter": "python",
   "pygments_lexer": "ipython3",
   "version": "3.8.13"
  },
  "orig_nbformat": 4,
  "vscode": {
   "interpreter": {
    "hash": "5e602a78529ab46f96dfd3522ab6db706091619897737c95e697aa6427bc24c8"
   }
  }
 },
 "nbformat": 4,
 "nbformat_minor": 2
}
