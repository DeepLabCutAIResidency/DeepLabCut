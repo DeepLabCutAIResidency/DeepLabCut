{
 "cells": [
  {
   "cell_type": "markdown",
   "metadata": {},
   "source": [
    "# Improving network performance via augmentation\n",
    "__Author:__ Jonas Bengt Carina Håkansson\n",
    "\n",
    "__Date:__ 20220818"
   ]
  },
  {
   "cell_type": "markdown",
   "metadata": {},
   "source": [
    "## The dataset\n",
    "This data was filmed at the Austin Bat Refuge [link] by Dr. Aaron Corcoran in 2020. It comprises blabla"
   ]
  },
  {
   "cell_type": "markdown",
   "metadata": {},
   "source": [
    "## Creating the DeepLabCut project\n",
    "We start by defining the path we will be working in. Then we create the project."
   ]
  },
  {
   "cell_type": "code",
   "execution_count": 3,
   "metadata": {},
   "outputs": [
    {
     "name": "stderr",
     "output_type": "stream",
     "text": [
      "2022-08-18 14:43:21.758398: I tensorflow/core/util/util.cc:169] oneDNN custom operations are on. You may see slightly different numerical results due to floating-point round-off errors from different computation orders. To turn them off, set the environment variable `TF_ENABLE_ONEDNN_OPTS=0`.\n"
     ]
    },
    {
     "name": "stdout",
     "output_type": "stream",
     "text": [
      "Loading DLC 2.2.1.1...\n"
     ]
    },
    {
     "name": "stderr",
     "output_type": "stream",
     "text": [
      "/home/jonas2/miniconda/envs/dlc/lib/python3.8/site-packages/statsmodels/compat/pandas.py:65: FutureWarning: pandas.Int64Index is deprecated and will be removed from pandas in a future version. Use pandas.Index with the appropriate dtype instead.\n",
      "  from pandas import Int64Index as NumericIndex\n"
     ]
    },
    {
     "name": "stdout",
     "output_type": "stream",
     "text": [
      "DLC loaded in light mode; you cannot use any GUI (labeling, relabeling and standalone GUI)\n",
      "Created \"/home/jonas2/DLC_files/projects/bat_augmentation_austin_2020_bat_data-DLC-2022-08-18/videos\"\n",
      "Created \"/home/jonas2/DLC_files/projects/bat_augmentation_austin_2020_bat_data-DLC-2022-08-18/labeled-data\"\n",
      "Created \"/home/jonas2/DLC_files/projects/bat_augmentation_austin_2020_bat_data-DLC-2022-08-18/training-datasets\"\n",
      "Created \"/home/jonas2/DLC_files/projects/bat_augmentation_austin_2020_bat_data-DLC-2022-08-18/dlc-models\"\n",
      "1  videos from the directory /home/jonas2/DLC_files/projects/dummyVideos/ were added to the project.\n",
      "Attempting to create a symbolic link of the video ...\n",
      "Created the symlink of /home/jonas2/DLC_files/projects/dummyVideos/TS5-544-Cam1_2020-06-25_000032_c2vn31_c3vn31_autoCroppedDLC_resnet50_austin2020_refined_dataJan19shuffle2_100000_labeled.mp4 to /home/jonas2/DLC_files/projects/bat_augmentation_austin_2020_bat_data-DLC-2022-08-18/videos/TS5-544-Cam1_2020-06-25_000032_c2vn31_c3vn31_autoCroppedDLC_resnet50_austin2020_refined_dataJan19shuffle2_100000_labeled.mp4\n",
      "/home/jonas2/DLC_files/projects/bat_augmentation_austin_2020_bat_data-DLC-2022-08-18/videos/TS5-544-Cam1_2020-06-25_000032_c2vn31_c3vn31_autoCroppedDLC_resnet50_austin2020_refined_dataJan19shuffle2_100000_labeled.mp4\n",
      "Generated \"/home/jonas2/DLC_files/projects/bat_augmentation_austin_2020_bat_data-DLC-2022-08-18/config.yaml\"\n",
      "\n",
      "A new project with name bat_augmentation_austin_2020_bat_data-DLC-2022-08-18 is created at /home/jonas2/DLC_files/projects and a configurable file (config.yaml) is stored there. Change the parameters in this file to adapt to your project's needs.\n",
      " Once you have changed the configuration file, use the function 'extract_frames' to select frames for labeling.\n",
      ". [OPTIONAL] Use the function 'add_new_videos' to add new videos to your project (at any stage).\n"
     ]
    },
    {
     "name": "stderr",
     "output_type": "stream",
     "text": [
      "/home/jonas2/DeepLabCut/deeplabcut/__init__.py:81: UserWarning: \n",
      "        As PyTorch is not installed, unsupervised identity learning will not be available.\n",
      "        Please run `pip install torch`, or ignore this warning.\n",
      "        \n",
      "  warnings.warn(\n"
     ]
    },
    {
     "data": {
      "text/plain": [
       "'/home/jonas2/DLC_files/projects/bat_augmentation_austin_2020_bat_data-DLC-2022-08-18/config.yaml'"
      ]
     },
     "execution_count": 3,
     "metadata": {},
     "output_type": "execute_result"
    }
   ],
   "source": [
    "import deeplabcut\n",
    "\n",
    "project_folder = \"/home/jonas2/DLC_files/projects/\" #the folder in which the DLC project will be created\n",
    "deeplabcut.create_new_project(\n",
    "            project='bat_augmentation_austin_2020_bat_data',\n",
    "            experimenter='DLC',\n",
    "            videos=['/home/jonas2/DLC_files/projects/dummyVideos/'],\n",
    "            working_directory=project_folder\n",
    "        )"
   ]
  },
  {
   "cell_type": "markdown",
   "metadata": {},
   "source": [
    "Now that the project is created we need to modify our project config file. Open config.yaml in the project folder.\n",
    "\n",
    "![what to change in the config file](img/config001_videos_and_bodyparts.png)\n",
    "\n",
    "The list of videos and the list of bodyparts need to change to reflect the actual videos and bodyparts"
   ]
  },
  {
   "cell_type": "code",
   "execution_count": 2,
   "metadata": {},
   "outputs": [
    {
     "name": "stderr",
     "output_type": "stream",
     "text": [
      "2022-08-18 16:10:50.859743: I tensorflow/core/util/util.cc:169] oneDNN custom operations are on. You may see slightly different numerical results due to floating-point round-off errors from different computation orders. To turn them off, set the environment variable `TF_ENABLE_ONEDNN_OPTS=0`.\n"
     ]
    },
    {
     "name": "stdout",
     "output_type": "stream",
     "text": [
      "Loading DLC 2.2.1.1...\n"
     ]
    },
    {
     "name": "stderr",
     "output_type": "stream",
     "text": [
      "/home/jonas2/miniconda/envs/dlc/lib/python3.8/site-packages/statsmodels/compat/pandas.py:65: FutureWarning: pandas.Int64Index is deprecated and will be removed from pandas in a future version. Use pandas.Index with the appropriate dtype instead.\n",
      "  from pandas import Int64Index as NumericIndex\n"
     ]
    },
    {
     "name": "stdout",
     "output_type": "stream",
     "text": [
      "DLC loaded in light mode; you cannot use any GUI (labeling, relabeling and standalone GUI)\n"
     ]
    },
    {
     "name": "stderr",
     "output_type": "stream",
     "text": [
      "/home/jonas2/DeepLabCut/deeplabcut/__init__.py:81: UserWarning: \n",
      "        As PyTorch is not installed, unsupervised identity learning will not be available.\n",
      "        Please run `pip install torch`, or ignore this warning.\n",
      "        \n",
      "  warnings.warn(\n"
     ]
    }
   ],
   "source": [
    "#define config file\n",
    "config_path = \"/home/jonas2/DLC_files/projects/bat_augmentation_austin_2020_bat_data-DLC-2022-08-18/config.yaml\"\n",
    "\n",
    "from deeplabcut.utils.auxiliaryfunctions import read_config, edit_config\n"
   ]
  },
  {
   "cell_type": "code",
   "execution_count": 7,
   "metadata": {},
   "outputs": [
    {
     "data": {
      "text/plain": [
       "ordereddict([('Task', 'bat_augmentation_austin_2020_bat_data'), ('scorer', 'DLC'), ('date', 'Aug18'), ('multianimalproject', False), ('identity', None), ('project_path', '/home/jonas2/DLC_files/projects/bat_augmentation_austin_2020_bat_data-DLC-2022-08-18'), ('video_sets', ordereddict([('/home/jonas2/DLC_files/projects/dummyVideos/TS5-544-Cam1_2020-06-25_000032_c2vn31_c3vn31_autoCroppedDLC_resnet50_austin2020_refined_dataJan19shuffle2_100000_labeled.mp4', ordereddict([('crop', '0, 378, 0, 552')]))])), ('bodyparts', ['t3L', 'wstL', 't5L', 'elbL', 'shdL', 'ankL', 'nl', 'str', 'lmb', 'shdR', 'ankR', 'elbR', 'wstR', 't5R', 't3R', 'tail']), ('start', 0), ('stop', 1), ('numframes2pick', 20), ('skeleton', [['bodypart1', 'bodypart2'], ['objectA', 'bodypart3']]), ('skeleton_color', 'black'), ('pcutoff', 0.6), ('dotsize', 12), ('alphavalue', 0.7), ('colormap', 'rainbow'), ('TrainingFraction', [0.95]), ('iteration', 0), ('default_net_type', 'resnet_50'), ('default_augmenter', 'default'), ('snapshotindex', -1), ('batch_size', 8), ('cropping', False), ('x1', 0), ('x2', 640), ('y1', 277), ('y2', 624), ('corner2move2', [50, 50]), ('move2corner', True)])"
      ]
     },
     "execution_count": 7,
     "metadata": {},
     "output_type": "execute_result"
    }
   ],
   "source": [
    "edit_config(config_path,{\"bodyparts\":['t3L', 'wstL', 't5L', 'elbL', 'shdL', 'ankL', 'nl', 'str', 'lmb', 'shdR', 'ankR', 'elbR', 'wstR', 't5R', 't3R', 'tail']})"
   ]
  },
  {
   "cell_type": "code",
   "execution_count": 26,
   "metadata": {},
   "outputs": [
    {
     "data": {
      "text/plain": [
       "ordereddict([('Task', 'bat_augmentation_austin_2020_bat_data'), ('scorer', 'DLC'), ('date', 'Aug18'), ('multianimalproject', False), ('identity', None), ('project_path', '/home/jonas2/DLC_files/projects/bat_augmentation_austin_2020_bat_data-DLC-2022-08-18'), ('video_sets', ordereddict([('/TS5-544-Cam1_2020-06-25_000090Track6_25_A.avi', ordereddict([('crop', '0, 351, 0, 351')])), ('/IL5-519-Cam2_2020-06-25_000089Track8_25_A.avi', ordereddict([('crop', '0, 351, 0, 351')])), ('/IL5-534-Cam3_2020-06-25_000085Track5_25_A.avi', ordereddict([('crop', '0, 351, 0, 351')])), ('/TS5-544-Cam1_2020-06-25_000094Track1_25_B.avi', ordereddict([('crop', '0, 301, 0, 301')])), ('/IL5-519-Cam2_2020-06-25_000093Track3_25_B.avi', ordereddict([('crop', '0, 351, 0, 351')])), ('/IL5-534-Cam3_2020-06-25_000089Track1_25_B.avi', ordereddict([('crop', '0, 351, 0, 351')])), ('/TS5-544-Cam1_2020-06-25_000099Track8_25_ref.avi', ordereddict([('crop', '0, 301, 0, 301')])), ('/IL5-519-Cam2_2020-06-25_000099Track6_25_ref.avi', ordereddict([('crop', '0, 351, 0, 351')])), ('/IL5-534-Cam3_2020-06-25_000095Track14_25_ref.avi', ordereddict([('crop', '0, 301, 0, 301')])), ('/TS5-544-Cam1_2020-06-25_000100Track5_50_B.avi', ordereddict([('crop', '0, 301, 0, 301')])), ('/IL5-519-Cam2_2020-06-25_000100Track1_50_B.avi', ordereddict([('crop', '0, 301, 0, 301')])), ('/IL5-534-Cam3_2020-06-25_000096Track2_50_B.avi', ordereddict([('crop', '0, 301, 0, 301')])), ('/TS5-544-Cam1_2020-06-25_000100Track5_25_B.avi', ordereddict([('crop', '0, 301, 0, 301')])), ('/IL5-519-Cam2_2020-06-25_000100Track1_25_B.avi', ordereddict([('crop', '0, 301, 0, 301')])), ('/IL5-534-Cam3_2020-06-25_000096Track2_25_B.avi', ordereddict([('crop', '0, 301, 0, 301')])), ('/TS5-544-Cam1_2020-06-25_000103Track3_50_test.avi', ordereddict([('crop', '0, 451, 0, 451')])), ('/IL5-519-Cam2_2020-06-25_000103Track3_50_test.avi', ordereddict([('crop', '0, 451, 0, 451')])), ('/IL5-534-Cam3_2020-06-25_000100Track4_50_test.avi', ordereddict([('crop', '0, 501, 0, 501')])), ('/TS5-544-Cam1_2020-06-25_000103Track3_25_ref.avi', ordereddict([('crop', '0, 451, 0, 451')])), ('/IL5-519-Cam2_2020-06-25_000103Track3_25_ref.avi', ordereddict([('crop', '0, 451, 0, 451')])), ('/IL5-534-Cam3_2020-06-25_000100Track4_25_ref.avi', ordereddict([('crop', '0, 501, 0, 501')])), ('/TS5-544-Cam1_2020-06-25_000104Track3_50_test.avi', ordereddict([('crop', '0, 451, 0, 451')])), ('/IL5-519-Cam2_2020-06-25_000104Track2_50_test.avi', ordereddict([('crop', '0, 501, 0, 501')])), ('/IL5-534-Cam3_2020-06-25_000101Track4_50_test.avi', ordereddict([('crop', '0, 451, 0, 451')])), ('/TS5-544-Cam1_2020-06-25_000104Track3_25_ref.avi', ordereddict([('crop', '0, 451, 0, 451')])), ('/IL5-519-Cam2_2020-06-25_000104Track2_25_ref.avi', ordereddict([('crop', '0, 501, 0, 501')])), ('/IL5-534-Cam3_2020-06-25_000101Track4_25_ref.avi', ordereddict([('crop', '0, 451, 0, 451')])), ('/TS5-544-Cam1_2020-06-25_000108Track6_50_test.avi', ordereddict([('crop', '0, 351, 0, 351')])), ('/IL5-519-Cam2_2020-06-25_000109Track1_50_test.avi', ordereddict([('crop', '0, 351, 0, 351')])), ('/IL5-534-Cam3_2020-06-25_000106Track3_50_test.avi', ordereddict([('crop', '0, 451, 0, 451')])), ('/TS5-544-Cam1_2020-06-25_000108Track6_25_ref.avi', ordereddict([('crop', '0, 351, 0, 351')])), ('/IL5-519-Cam2_2020-06-25_000109Track1_25_ref.avi', ordereddict([('crop', '0, 351, 0, 351')])), ('/IL5-534-Cam3_2020-06-25_000106Track3_25_ref.avi', ordereddict([('crop', '0, 451, 0, 451')])), ('/TS5-544-Cam1_2020-06-25_000121Track7_50_A.avi', ordereddict([('crop', '0, 401, 0, 401')])), ('/IL5-519-Cam2_2020-06-25_000122Track9_50_A.avi', ordereddict([('crop', '0, 451, 0, 451')])), ('/IL5-534-Cam3_2020-06-25_000121Track11_50_A.avi', ordereddict([('crop', '0, 426, 0, 426')])), ('/TS5-544-Cam1_2020-06-25_000121Track7_25_A.avi', ordereddict([('crop', '0, 401, 0, 401')])), ('/IL5-519-Cam2_2020-06-25_000122Track9_25_A.avi', ordereddict([('crop', '0, 451, 0, 451')])), ('/IL5-534-Cam3_2020-06-25_000121Track11_25_A.avi', ordereddict([('crop', '0, 426, 0, 426')])), ('/TS5-544-Cam1_2020-06-25_000123Track6_50_test.avi', ordereddict([('crop', '0, 351, 0, 351')])), ('/IL5-519-Cam2_2020-06-25_000124Track9_50_test.avi', ordereddict([('crop', '0, 401, 0, 401')])), ('/IL5-534-Cam3_2020-06-25_000122Track7_50_test.avi', ordereddict([('crop', '0, 401, 0, 401')])), ('/TS5-544-Cam1_2020-06-25_000123Track6_25_ref.avi', ordereddict([('crop', '0, 351, 0, 351')])), ('/IL5-519-Cam2_2020-06-25_000124Track9_25_ref.avi', ordereddict([('crop', '0, 401, 0, 401')])), ('/IL5-534-Cam3_2020-06-25_000122Track7_25_ref.avi', ordereddict([('crop', '0, 401, 0, 401')])), ('/TS5-544-Cam1_2020-06-25_000128Track2_50_test.avi', ordereddict([('crop', '0, 451, 0, 451')])), ('/IL5-519-Cam2_2020-06-25_000130Track2_50_test.avi', ordereddict([('crop', '0, 401, 0, 401')])), ('/IL5-534-Cam3_2020-06-25_000127Track4_50_test.avi', ordereddict([('crop', '0, 401, 0, 401')])), ('/TS5-544-Cam1_2020-06-25_000128Track2_25_ref.avi', ordereddict([('crop', '0, 451, 0, 451')])), ('/IL5-519-Cam2_2020-06-25_000130Track2_25_ref.avi', ordereddict([('crop', '0, 401, 0, 401')])), ('/IL5-534-Cam3_2020-06-25_000127Track4_25_ref.avi', ordereddict([('crop', '0, 401, 0, 401')])), ('/TS5-544-Cam1_2020-06-25_000134Track5_50_test.avi', ordereddict([('crop', '0, 351, 0, 351')])), ('/IL5-519-Cam2_2020-06-25_000136Track10_50_test.avi', ordereddict([('crop', '0, 401, 0, 401')])), ('/IL5-534-Cam3_2020-06-25_000133Track9_50_test.avi', ordereddict([('crop', '0, 401, 0, 401')])), ('/TS5-544-Cam1_2020-06-25_000134Track5_25_ref.avi', ordereddict([('crop', '0, 351, 0, 351')])), ('/IL5-519-Cam2_2020-06-25_000136Track10_25_ref.avi', ordereddict([('crop', '0, 401, 0, 401')])), ('/IL5-534-Cam3_2020-06-25_000133Track9_25_ref.avi', ordereddict([('crop', '0, 401, 0, 401')])), ('/TS5-544-Cam1_2020-06-25_000140Track12_25_A.avi', ordereddict([('crop', '0, 451, 0, 451')])), ('/IL5-519-Cam2_2020-06-25_000142Track10_25_A.avi', ordereddict([('crop', '0, 451, 0, 451')])), ('/IL5-534-Cam3_2020-06-25_000139Track7_25_A.avi', ordereddict([('crop', '0, 451, 0, 451')])), ('/TS5-544-Cam1_2020-06-25_000140Track12_50_A.avi', ordereddict([('crop', '0, 451, 0, 451')])), ('/IL5-519-Cam2_2020-06-25_000142Track10_50_A.avi', ordereddict([('crop', '0, 451, 0, 451')])), ('/IL5-534-Cam3_2020-06-25_000139Track7_50_A.avi', ordereddict([('crop', '0, 451, 0, 451')])), ('/TS5-544-Cam1_2020-06-25_000154Track6_50_B.avi', ordereddict([('crop', '0, 601, 0, 601')])), ('/IL5-519-Cam2_2020-06-25_000156Track4_50_B.avi', ordereddict([('crop', '0, 501, 0, 501')])), ('/IL5-534-Cam3_2020-06-25_000153Track4_50_B.avi', ordereddict([('crop', '0, 551, 0, 551')])), ('/TS5-544-Cam1_2020-06-25_000154Track6_25_B.avi', ordereddict([('crop', '0, 601, 0, 601')])), ('/IL5-519-Cam2_2020-06-25_000156Track4_25_B.avi', ordereddict([('crop', '0, 501, 0, 501')])), ('/IL5-534-Cam3_2020-06-25_000153Track4_25_B.avi', ordereddict([('crop', '0, 551, 0, 551')])), ('/TS5-544-Cam1_2020-06-25_000089Track5_A.avi', ordereddict([('crop', '0, 301, 0, 301')])), ('/IL5-519-Cam2_2020-06-25_000088Track5_A.avi', ordereddict([('crop', '0, 351, 0, 351')])), ('/IL5-534-Cam3_2020-06-25_000084Track12_A.avi', ordereddict([('crop', '0, 301, 0, 301')])), ('/TS5-544-Cam1_2020-06-25_000090Track6_50_A.avi', ordereddict([('crop', '0, 351, 0, 351')])), ('/IL5-519-Cam2_2020-06-25_000089Track8_50_A.avi', ordereddict([('crop', '0, 351, 0, 351')])), ('/IL5-534-Cam3_2020-06-25_000085Track5_50_A.avi', ordereddict([('crop', '0, 351, 0, 351')])), ('/TS5-544-Cam1_2020-06-25_000094Track1_50_B.avi', ordereddict([('crop', '0, 301, 0, 301')])), ('/IL5-519-Cam2_2020-06-25_000093Track3_50_B.avi', ordereddict([('crop', '0, 351, 0, 351')])), ('/IL5-534-Cam3_2020-06-25_000089Track1_50_B.avi', ordereddict([('crop', '0, 351, 0, 351')])), ('/TS5-544-Cam1_2020-06-25_000095Track1_B.avi', ordereddict([('crop', '0, 401, 0, 401')])), ('/IL5-519-Cam2_2020-06-25_000094Track2_B.avi', ordereddict([('crop', '0, 401, 0, 401')])), ('/IL5-534-Cam3_2020-06-25_000090Track7_B.avi', ordereddict([('crop', '0, 421, 0, 421')])), ('/TS5-544-Cam1_2020-06-25_000097Track5_A.avi', ordereddict([('crop', '0, 351, 0, 351')])), ('/IL5-519-Cam2_2020-06-25_000096Track3_A.avi', ordereddict([('crop', '0, 401, 0, 401')])), ('/IL5-534-Cam3_2020-06-25_000092Track1_A.avi', ordereddict([('crop', '0, 421, 0, 421')])), ('/TS5-544-Cam1_2020-06-25_000098Track1_B.avi', ordereddict([('crop', '0, 351, 0, 351')])), ('/IL5-519-Cam2_2020-06-25_000097Track10_B.avi', ordereddict([('crop', '0, 351, 0, 351')])), ('/IL5-534-Cam3_2020-06-25_000093Track4_B.avi', ordereddict([('crop', '0, 351, 0, 351')])), ('/TS5-544-Cam1_2020-06-25_000099Track3_A.avi', ordereddict([('crop', '0, 301, 0, 301')])), ('/IL5-519-Cam2_2020-06-25_000099Track5_A.avi', ordereddict([('crop', '0, 351, 0, 351')])), ('/IL5-534-Cam3_2020-06-25_000095Track4_A.avi', ordereddict([('crop', '0, 401, 0, 401')])), ('/TS5-544-Cam1_2020-06-25_000099Track8_50_test.avi', ordereddict([('crop', '0, 301, 0, 301')])), ('/IL5-519-Cam2_2020-06-25_000099Track6_50_test.avi', ordereddict([('crop', '0, 351, 0, 351')])), ('/IL5-534-Cam3_2020-06-25_000095Track14_50_test.avi', ordereddict([('crop', '0, 301, 0, 301')])), ('/TS5-544-Cam1_2020-06-25_000008_cropped_B.avi', ordereddict([('crop', '0, 655, 0, 997')])), ('/IL5-519-Cam2_2020-06-25_000007_cropped_B.avi', ordereddict([('crop', '0, 521, 0, 915')])), ('/IL5-534-Cam3_2020-06-25_000007_cropped_B.avi', ordereddict([('crop', '0, 508, 0, 897')])), ('/TS5-544-Cam1_2020-06-25_000024_cropped_A.avi', ordereddict([('crop', '0, 465, 0, 924')])), ('/IL5-519-Cam2_2020-06-25_000023_cropped_A.avi', ordereddict([('crop', '0, 418, 0, 772')])), ('/IL5-534-Cam3_2020-06-25_000023_cropped_A.avi', ordereddict([('crop', '0, 425, 0, 766')])), ('/TS5-544-Cam1_2020-06-25_000032_cropped_B.avi', ordereddict([('crop', '0, 447, 0, 628')])), ('/IL5-519-Cam2_2020-06-25_000031_cropped_B.avi', ordereddict([('crop', '0, 299, 0, 550')])), ('/IL5-534-Cam3_2020-06-25_000031_cropped_B.avi', ordereddict([('crop', '0, 291, 0, 504')])), ('/TS5-544-Cam1_2020-06-25_000084_cropped_A.avi', ordereddict([('crop', '0, 368, 0, 503')])), ('/IL5-519-Cam2_2020-06-25_000083_cropped_A.avi', ordereddict([('crop', '0, 290, 0, 499')])), ('/IL5-534-Cam3_2020-06-25_000079_cropped_A.avi', ordereddict([('crop', '0, 408, 0, 520')])), ('/TS5-544-Cam1_2020-06-25_000086_cropped_B.avi', ordereddict([('crop', '0, 226, 0, 417')])), ('/IL5-519-Cam2_2020-06-25_000085_cropped_B.avi', ordereddict([('crop', '0, 229, 0, 437')])), ('/IL5-534-Cam3_2020-06-25_000081_cropped_B.avi', ordereddict([('crop', '0, 269, 0, 544')])), ('/TS5-544-Cam1_2020-06-25_000091_cropped_A.avi', ordereddict([('crop', '0, 210, 0, 385')])), ('/IL5-519-Cam2_2020-06-25_000090_cropped_A.avi', ordereddict([('crop', '0, 217, 0, 381')])), ('/IL5-534-Cam3_2020-06-25_000086_cropped_A.avi', ordereddict([('crop', '0, 219, 0, 409')])), ('/TS5-544-Cam1_2020-06-25_000135_cropped_B.avi', ordereddict([('crop', '0, 196, 0, 383')])), ('/IL5-519-Cam2_2020-06-25_000137_cropped_B.avi', ordereddict([('crop', '0, 316, 0, 340')])), ('/IL5-534-Cam3_2020-06-25_000134_cropped_B.avi', ordereddict([('crop', '0, 247, 0, 370')])), ('/TS5-544-Cam1_2020-06-25_000159_cropped_A.avi', ordereddict([('crop', '0, 334, 0, 364')])), ('/IL5-519-Cam2_2020-06-25_000161_cropped_A.avi', ordereddict([('crop', '0, 518, 0, 326')])), ('/IL5-534-Cam3_2020-06-25_000158_cropped_A.avi', ordereddict([('crop', '0, 504, 0, 373')]))])), ('bodyparts', ['t3L', 'wstL', 't5L', 'elbL', 'shdL', 'ankL', 'nl', 'str', 'lmb', 'shdR', 'ankR', 'elbR', 'wstR', 't5R', 't3R', 'tail']), ('start', 0), ('stop', 1), ('numframes2pick', 20), ('skeleton', [['bodypart1', 'bodypart2'], ['objectA', 'bodypart3']]), ('skeleton_color', 'black'), ('pcutoff', 0.6), ('dotsize', 12), ('alphavalue', 0.7), ('colormap', 'rainbow'), ('TrainingFraction', [0.95]), ('iteration', 0), ('default_net_type', 'resnet_50'), ('default_augmenter', 'default'), ('snapshotindex', -1), ('batch_size', 8), ('cropping', False), ('x1', 0), ('x2', 640), ('y1', 277), ('y2', 624), ('corner2move2', [50, 50]), ('move2corner', True)])"
      ]
     },
     "execution_count": 26,
     "metadata": {},
     "output_type": "execute_result"
    }
   ],
   "source": [
    "#dummy thing for now. I want function for this.\n",
    "videolist = read_config(\"/home/jonas2/DLC_files/projects/geneva_protocol_paper_austin_2020_bat_data-DLC-2022-08-03/config.yaml\")[\"video_sets\"]\n",
    "edit_config(config_path,{'video_sets':videolist})"
   ]
  },
  {
   "cell_type": "code",
   "execution_count": 27,
   "metadata": {},
   "outputs": [
    {
     "name": "stdout",
     "output_type": "stream",
     "text": [
      "Creating images with labels by DLC.\n"
     ]
    },
    {
     "name": "stderr",
     "output_type": "stream",
     "text": [
      "100%|██████████| 6/6 [00:00<00:00, 17.53it/s]\n",
      "100%|██████████| 6/6 [00:00<00:00, 21.47it/s]\n",
      "100%|██████████| 6/6 [00:00<00:00, 20.86it/s]\n",
      "100%|██████████| 8/8 [00:00<00:00, 25.42it/s]\n",
      "100%|██████████| 8/8 [00:00<00:00, 21.44it/s]\n",
      "100%|██████████| 8/8 [00:00<00:00, 21.87it/s]\n",
      "100%|██████████| 11/11 [00:00<00:00, 27.56it/s]\n",
      "100%|██████████| 11/11 [00:00<00:00, 19.24it/s]\n",
      "100%|██████████| 11/11 [00:00<00:00, 28.85it/s]\n",
      "100%|██████████| 6/6 [00:00<00:00, 28.82it/s]\n",
      "100%|██████████| 6/6 [00:00<00:00, 25.66it/s]\n",
      "100%|██████████| 6/6 [00:00<00:00, 24.13it/s]\n",
      "100%|██████████| 6/6 [00:00<00:00, 26.14it/s]\n",
      "100%|██████████| 6/6 [00:00<00:00, 22.68it/s]\n",
      "100%|██████████| 6/6 [00:00<00:00, 28.34it/s]\n",
      "100%|██████████| 8/8 [00:00<00:00, 12.33it/s]\n",
      "100%|██████████| 8/8 [00:00<00:00, 13.06it/s]\n",
      "100%|██████████| 8/8 [00:00<00:00, 10.26it/s]\n",
      "100%|██████████| 9/9 [00:00<00:00, 13.22it/s]\n",
      "100%|██████████| 9/9 [00:00<00:00, 12.98it/s]\n",
      "100%|██████████| 9/9 [00:00<00:00, 10.84it/s]\n",
      "100%|██████████| 5/5 [00:00<00:00, 14.21it/s]\n",
      "100%|██████████| 5/5 [00:00<00:00, 11.30it/s]\n",
      "100%|██████████| 5/5 [00:00<00:00, 12.84it/s]\n",
      "100%|██████████| 5/5 [00:00<00:00, 12.65it/s]\n",
      "100%|██████████| 5/5 [00:00<00:00, 11.07it/s]\n",
      "100%|██████████| 5/5 [00:00<00:00, 12.75it/s]\n",
      "100%|██████████| 6/6 [00:00<00:00, 21.95it/s]\n",
      "100%|██████████| 6/6 [00:00<00:00, 21.49it/s]\n",
      "100%|██████████| 6/6 [00:00<00:00, 13.47it/s]\n",
      "100%|██████████| 6/6 [00:00<00:00, 22.04it/s]\n",
      "100%|██████████| 6/6 [00:00<00:00, 20.18it/s]\n",
      "100%|██████████| 6/6 [00:00<00:00, 12.96it/s]\n",
      "100%|██████████| 7/7 [00:00<00:00, 15.82it/s]\n",
      "100%|██████████| 7/7 [00:00<00:00, 12.40it/s]\n",
      "100%|██████████| 7/7 [00:00<00:00, 15.18it/s]\n",
      "100%|██████████| 8/8 [00:00<00:00, 16.15it/s]\n",
      "100%|██████████| 8/8 [00:00<00:00, 13.49it/s]\n",
      "100%|██████████| 8/8 [00:00<00:00, 14.88it/s]\n",
      "100%|██████████| 8/8 [00:00<00:00, 21.35it/s]\n",
      "100%|██████████| 8/8 [00:00<00:00, 15.42it/s]\n",
      "100%|██████████| 8/8 [00:00<00:00, 16.00it/s]\n",
      "100%|██████████| 9/9 [00:00<00:00, 19.48it/s]\n",
      "100%|██████████| 9/9 [00:00<00:00, 15.92it/s]\n",
      "100%|██████████| 9/9 [00:00<00:00, 17.19it/s]\n",
      "100%|██████████| 7/7 [00:00<00:00, 13.74it/s]\n",
      "100%|██████████| 7/7 [00:00<00:00, 14.58it/s]\n",
      "100%|██████████| 7/7 [00:00<00:00, 14.20it/s]\n",
      "100%|██████████| 7/7 [00:00<00:00, 13.50it/s]\n",
      "100%|██████████| 6/6 [00:00<00:00, 16.89it/s]\n",
      "100%|██████████| 7/7 [00:00<00:00, 17.23it/s]\n",
      "100%|██████████| 6/6 [00:00<00:00, 21.70it/s]\n",
      "100%|██████████| 6/6 [00:00<00:00, 15.88it/s]\n",
      "100%|██████████| 6/6 [00:00<00:00, 15.06it/s]\n",
      "100%|██████████| 6/6 [00:00<00:00, 22.42it/s]\n",
      "100%|██████████| 6/6 [00:00<00:00, 14.89it/s]\n",
      "100%|██████████| 6/6 [00:00<00:00, 15.18it/s]\n",
      "100%|██████████| 7/7 [00:00<00:00, 12.91it/s]\n",
      "100%|██████████| 7/7 [00:00<00:00, 12.98it/s]\n",
      "100%|██████████| 7/7 [00:00<00:00, 12.52it/s]\n",
      "100%|██████████| 7/7 [00:00<00:00, 14.08it/s]\n",
      "100%|██████████| 7/7 [00:00<00:00, 11.48it/s]\n",
      "100%|██████████| 7/7 [00:00<00:00, 13.49it/s]\n",
      "100%|██████████| 10/10 [00:01<00:00,  7.96it/s]\n",
      "100%|██████████| 10/10 [00:00<00:00, 10.02it/s]\n",
      "100%|██████████| 10/10 [00:01<00:00,  8.79it/s]\n",
      "100%|██████████| 10/10 [00:01<00:00,  7.83it/s]\n",
      "100%|██████████| 10/10 [00:00<00:00, 11.17it/s]\n",
      "100%|██████████| 10/10 [00:01<00:00,  8.93it/s]\n",
      "100%|██████████| 40/40 [00:01<00:00, 27.48it/s]\n",
      "100%|██████████| 40/40 [00:01<00:00, 21.48it/s]\n",
      "100%|██████████| 40/40 [00:01<00:00, 26.02it/s]\n",
      "100%|██████████| 6/6 [00:00<00:00, 22.21it/s]\n",
      "100%|██████████| 6/6 [00:00<00:00, 18.60it/s]\n",
      "100%|██████████| 6/6 [00:00<00:00, 19.99it/s]\n",
      "100%|██████████| 7/7 [00:00<00:00, 24.50it/s]\n",
      "100%|██████████| 7/7 [00:00<00:00, 21.25it/s]\n",
      "100%|██████████| 7/7 [00:00<00:00, 21.61it/s]\n",
      "100%|██████████| 19/19 [00:01<00:00, 15.97it/s]\n",
      "100%|██████████| 19/19 [00:01<00:00, 15.89it/s]\n",
      "100%|██████████| 19/19 [00:01<00:00, 14.91it/s]\n",
      "100%|██████████| 19/19 [00:00<00:00, 21.01it/s]\n",
      "100%|██████████| 19/19 [00:01<00:00, 15.22it/s]\n",
      "100%|██████████| 19/19 [00:01<00:00, 14.10it/s]\n",
      "100%|██████████| 22/22 [00:01<00:00, 19.50it/s]\n",
      "100%|██████████| 22/22 [00:01<00:00, 18.52it/s]\n",
      "100%|██████████| 22/22 [00:01<00:00, 19.92it/s]\n",
      "100%|██████████| 23/23 [00:00<00:00, 26.98it/s]\n",
      "100%|██████████| 23/23 [00:01<00:00, 19.88it/s]\n",
      "100%|██████████| 23/23 [00:01<00:00, 16.15it/s]\n",
      "100%|██████████| 10/10 [00:00<00:00, 27.20it/s]\n",
      "100%|██████████| 10/10 [00:00<00:00, 20.87it/s]\n",
      "100%|██████████| 10/10 [00:00<00:00, 26.14it/s]\n",
      "100%|██████████| 7/7 [00:01<00:00,  4.61it/s]\n",
      "100%|██████████| 12/12 [00:02<00:00,  5.84it/s]\n",
      "100%|██████████| 11/11 [00:01<00:00,  6.76it/s]\n",
      "100%|██████████| 11/11 [00:01<00:00,  6.86it/s]\n",
      "100%|██████████| 11/11 [00:01<00:00,  8.86it/s]\n",
      "100%|██████████| 12/12 [00:01<00:00,  8.17it/s]\n",
      "100%|██████████| 10/10 [00:00<00:00, 10.50it/s]\n",
      "100%|██████████| 10/10 [00:00<00:00, 15.74it/s]\n",
      "100%|██████████| 10/10 [00:00<00:00, 19.14it/s]\n",
      "100%|██████████| 19/19 [00:01<00:00, 14.32it/s]\n",
      "100%|██████████| 19/19 [00:01<00:00, 17.17it/s]\n",
      "100%|██████████| 19/19 [00:01<00:00, 12.63it/s]\n",
      "100%|██████████| 33/33 [00:01<00:00, 26.69it/s]\n",
      "100%|██████████| 33/33 [00:01<00:00, 24.69it/s]\n",
      "100%|██████████| 33/33 [00:01<00:00, 17.09it/s]\n",
      "100%|██████████| 31/31 [00:01<00:00, 30.82it/s]\n",
      "100%|██████████| 31/31 [00:01<00:00, 29.21it/s]\n",
      "100%|██████████| 31/31 [00:01<00:00, 26.14it/s]\n",
      "100%|██████████| 15/15 [00:00<00:00, 32.57it/s]\n",
      "100%|██████████| 15/15 [00:00<00:00, 22.19it/s]\n",
      "100%|██████████| 15/15 [00:00<00:00, 25.06it/s]\n",
      "100%|██████████| 19/19 [00:00<00:00, 22.68it/s]\n",
      "100%|██████████| 19/19 [00:01<00:00, 15.88it/s]\n",
      "100%|██████████| 19/19 [00:01<00:00, 14.34it/s]"
     ]
    },
    {
     "name": "stdout",
     "output_type": "stream",
     "text": [
      "If all the labels are ok, then use the function 'create_training_dataset' to create the training dataset!\n"
     ]
    },
    {
     "name": "stderr",
     "output_type": "stream",
     "text": [
      "\n"
     ]
    }
   ],
   "source": [
    "import deeplabcut\n",
    "#deeplabcut.convertcsv2h5(config_path, userfeedback=False)\n",
    "deeplabcut.check_labels(config_path)\n",
    "\n"
   ]
  },
  {
   "cell_type": "code",
   "execution_count": 28,
   "metadata": {},
   "outputs": [
    {
     "name": "stdout",
     "output_type": "stream",
     "text": [
      "The training dataset is successfully created. Use the function 'train_network' to start training. Happy training!\n"
     ]
    },
    {
     "data": {
      "text/plain": [
       "[(0.95,\n",
       "  99,\n",
       "  (array([ 661, 1225,  315, ...,  324,  203,   84]),\n",
       "   array([ 633,  908,  611,  398,   91, 1106,  430,  779, 1143,  291,   57,\n",
       "           257,  888, 1347, 1066,  388,  335,  273,  756, 1077, 1337,  128,\n",
       "           802,   28, 1207,  882,  510,  675,  151,  244,  714,  543,  544,\n",
       "           639,  697, 1289, 1312,  423,  910, 1171,  659,  797, 1363, 1201,\n",
       "            99,  850,  448,  755,  976,  115,  777,   72,  845,  537,  849,\n",
       "           174,   87,  551,  705,  314,  600, 1094,  599,  277, 1033,  763,\n",
       "           835, 1216,  559,  684])))]"
      ]
     },
     "execution_count": 28,
     "metadata": {},
     "output_type": "execute_result"
    }
   ],
   "source": [
    "# Dummy training dataset to get indexes and so on from later\n",
    "deeplabcut.create_training_dataset(config_path, Shuffles=[99])\n",
    "\n"
   ]
  },
  {
   "cell_type": "code",
   "execution_count": 29,
   "metadata": {},
   "outputs": [
    {
     "name": "stdout",
     "output_type": "stream",
     "text": [
      "You passed a split with the following fraction: 88%\n",
      "The training dataset is successfully created. Use the function 'train_network' to start training. Happy training!\n",
      "You passed a split with the following fraction: 88%\n",
      "The training dataset is successfully created. Use the function 'train_network' to start training. Happy training!\n"
     ]
    },
    {
     "data": {
      "text/plain": [
       "[(0.88,\n",
       "  52,\n",
       "  (array([   0,    1,    2, ..., 1383, 1384, 1385]),\n",
       "   array([ 277,  278,  279,  280,  281,  282,  283,  284,  285,  286,  308,\n",
       "           309,  310,  311,  312,  313,  314,  315,  321,  322,  323,  324,\n",
       "           325,  332,  333,  334,  335,  336,  337,  362,  363,  364,  365,\n",
       "           366,  367,  368,  369,  376,  377,  378,  379,  380,  381,  382,\n",
       "           389,  390,  391,  392,  393,  394,  717,  718,  719,  720,  721,\n",
       "           722,  723,  724,  725,  726,  771,  772,  773,  774,  775,  776,\n",
       "           777,  778,  784,  785,  786,  787,  788,  795,  796,  797,  798,\n",
       "           799,  800,  825,  826,  827,  828,  829,  830,  831,  832,  840,\n",
       "           841,  842,  843,  844,  845,  846,  853,  854,  855,  856,  857,\n",
       "           858, 1199, 1200, 1201, 1202, 1203, 1204, 1205, 1206, 1207, 1208,\n",
       "          1230, 1231, 1232, 1233, 1234, 1235, 1236, 1237, 1243, 1244, 1245,\n",
       "          1246, 1247, 1254, 1255, 1256, 1257, 1258, 1259, 1284, 1285, 1286,\n",
       "          1287, 1288, 1289, 1290, 1291, 1299, 1300, 1301, 1302, 1303, 1304,\n",
       "          1305, 1312, 1313, 1314, 1315, 1316, 1317])))]"
      ]
     },
     "execution_count": 29,
     "metadata": {},
     "output_type": "execute_result"
    }
   ],
   "source": [
    "\n",
    "import pandas as pd\n",
    "df = pd.read_hdf('/home/jonas2/DLC_files/projects/geneva_protocol_paper_austin_2020_bat_data-DLC-2022-08-03/training-datasets/iteration-0/UnaugmentedDataSet_geneva_protocol_paper_austin_2020_bat_dataAug3/CollectedData_DLC.h5')\n",
    "image_paths = df.index.to_list()\n",
    "test_inds = []\n",
    "train_inds = []\n",
    "for i, path in enumerate(image_paths):\n",
    "    if str(path[1]).endswith(\"_A\"):\n",
    "        train_inds.append(i)\n",
    "    elif str(path[1]).endswith(\"_B\"):\n",
    "        train_inds.append(i)\n",
    "    elif str(path[1]).endswith(\"_50_test\"):\n",
    "        test_inds.append(i)\n",
    "\n",
    "deeplabcut.create_training_dataset(\n",
    "    config_path,\n",
    "    Shuffles=[51],\n",
    "    trainIndices=[train_inds],\n",
    "    testIndices=[test_inds],\n",
    "    net_type=\"resnet_50\",\n",
    "    augmenter_type=\"imgaug\"\n",
    ")\n",
    "\n",
    "deeplabcut.create_training_dataset(\n",
    "    config_path,\n",
    "    Shuffles=[52],\n",
    "    trainIndices=[train_inds],\n",
    "    testIndices=[test_inds],\n",
    "    net_type=\"resnet_101\",\n",
    "    augmenter_type=\"imgaug\"\n",
    ")"
   ]
  },
  {
   "cell_type": "code",
   "execution_count": 30,
   "metadata": {},
   "outputs": [],
   "source": [
    "edits_dict = dict()\n",
    "edits_dict[\"rotation\"] = 25\n",
    "edits_dict[\"gaussian_blur\"] = False\n",
    "edits_dict[\"gaussian_blur_params\"] = {\"sigma\": (0.5, 4.0)}\n",
    "edits_dict[\"scale_jitter_lo\"] = .5\n",
    "edits_dict[\"scale_jitter_up\"] = 1.25\n",
    "edits_dict[\"symmetric_pairs\"] = (0, 14), (1, 12), (2, 13), (3, 11), (4, 9), (5, 10)\n",
    "edits_dict[\"fliplr\"] = False\n",
    "\n",
    "## Initialise dict with additional edits to train config: optimizer\n",
    "train_edits_dict = {}\n",
    "dict_optimizer = {'optimizer':'adam',\n",
    "    'batch_size': 8,\n",
    "    'multi_step': [[1e-4, 7500], [5 * 1e-5, 12000], [1e-5, 150000]]} # if no yaml file passed, initialise as an empty dict\n",
    "train_edits_dict.update({'optimizer': dict_optimizer['optimizer'], #'adam',\n",
    "    'batch_size': dict_optimizer['batch_size'], #16,\n",
    "    'multi_step': dict_optimizer['multi_step']}) # learning rate schedule for adam: [[1e-4, 7500], [5 * 1e-5, 12000], [1e-5, 200000]]"
   ]
  },
  {
   "cell_type": "code",
   "execution_count": 32,
   "metadata": {},
   "outputs": [],
   "source": [
    "for shuffle in [51, 52]:\n",
    "    one_train_pose_config_file_path,\\\n",
    "    one_test_pose_config_file_path,\\\n",
    "    _ = deeplabcut.return_train_network_path(config_path,\n",
    "                                            shuffle=shuffle,\n",
    "                                            trainingsetindex=0, # default\n",
    "                                            modelprefix=\"\")\n",
    "    edit_config(str(one_train_pose_config_file_path), edits_dict)\n",
    "    edit_config(str(one_train_pose_config_file_path), train_edits_dict)"
   ]
  },
  {
   "cell_type": "code",
   "execution_count": 33,
   "metadata": {},
   "outputs": [
    {
     "data": {
      "text/plain": [
       "ordereddict([('/TS5-544-Cam1_2020-06-25_000090Track6_25_A.avi', ordereddict([('crop', '0, 351, 0, 351')])), ('/IL5-519-Cam2_2020-06-25_000089Track8_25_A.avi', ordereddict([('crop', '0, 351, 0, 351')])), ('/IL5-534-Cam3_2020-06-25_000085Track5_25_A.avi', ordereddict([('crop', '0, 351, 0, 351')])), ('/TS5-544-Cam1_2020-06-25_000094Track1_25_B.avi', ordereddict([('crop', '0, 301, 0, 301')])), ('/IL5-519-Cam2_2020-06-25_000093Track3_25_B.avi', ordereddict([('crop', '0, 351, 0, 351')])), ('/IL5-534-Cam3_2020-06-25_000089Track1_25_B.avi', ordereddict([('crop', '0, 351, 0, 351')])), ('/TS5-544-Cam1_2020-06-25_000099Track8_25_ref.avi', ordereddict([('crop', '0, 301, 0, 301')])), ('/IL5-519-Cam2_2020-06-25_000099Track6_25_ref.avi', ordereddict([('crop', '0, 351, 0, 351')])), ('/IL5-534-Cam3_2020-06-25_000095Track14_25_ref.avi', ordereddict([('crop', '0, 301, 0, 301')])), ('/TS5-544-Cam1_2020-06-25_000100Track5_50_B.avi', ordereddict([('crop', '0, 301, 0, 301')])), ('/IL5-519-Cam2_2020-06-25_000100Track1_50_B.avi', ordereddict([('crop', '0, 301, 0, 301')])), ('/IL5-534-Cam3_2020-06-25_000096Track2_50_B.avi', ordereddict([('crop', '0, 301, 0, 301')])), ('/TS5-544-Cam1_2020-06-25_000100Track5_25_B.avi', ordereddict([('crop', '0, 301, 0, 301')])), ('/IL5-519-Cam2_2020-06-25_000100Track1_25_B.avi', ordereddict([('crop', '0, 301, 0, 301')])), ('/IL5-534-Cam3_2020-06-25_000096Track2_25_B.avi', ordereddict([('crop', '0, 301, 0, 301')])), ('/TS5-544-Cam1_2020-06-25_000103Track3_50_test.avi', ordereddict([('crop', '0, 451, 0, 451')])), ('/IL5-519-Cam2_2020-06-25_000103Track3_50_test.avi', ordereddict([('crop', '0, 451, 0, 451')])), ('/IL5-534-Cam3_2020-06-25_000100Track4_50_test.avi', ordereddict([('crop', '0, 501, 0, 501')])), ('/TS5-544-Cam1_2020-06-25_000103Track3_25_ref.avi', ordereddict([('crop', '0, 451, 0, 451')])), ('/IL5-519-Cam2_2020-06-25_000103Track3_25_ref.avi', ordereddict([('crop', '0, 451, 0, 451')])), ('/IL5-534-Cam3_2020-06-25_000100Track4_25_ref.avi', ordereddict([('crop', '0, 501, 0, 501')])), ('/TS5-544-Cam1_2020-06-25_000104Track3_50_test.avi', ordereddict([('crop', '0, 451, 0, 451')])), ('/IL5-519-Cam2_2020-06-25_000104Track2_50_test.avi', ordereddict([('crop', '0, 501, 0, 501')])), ('/IL5-534-Cam3_2020-06-25_000101Track4_50_test.avi', ordereddict([('crop', '0, 451, 0, 451')])), ('/TS5-544-Cam1_2020-06-25_000104Track3_25_ref.avi', ordereddict([('crop', '0, 451, 0, 451')])), ('/IL5-519-Cam2_2020-06-25_000104Track2_25_ref.avi', ordereddict([('crop', '0, 501, 0, 501')])), ('/IL5-534-Cam3_2020-06-25_000101Track4_25_ref.avi', ordereddict([('crop', '0, 451, 0, 451')])), ('/TS5-544-Cam1_2020-06-25_000108Track6_50_test.avi', ordereddict([('crop', '0, 351, 0, 351')])), ('/IL5-519-Cam2_2020-06-25_000109Track1_50_test.avi', ordereddict([('crop', '0, 351, 0, 351')])), ('/IL5-534-Cam3_2020-06-25_000106Track3_50_test.avi', ordereddict([('crop', '0, 451, 0, 451')])), ('/TS5-544-Cam1_2020-06-25_000108Track6_25_ref.avi', ordereddict([('crop', '0, 351, 0, 351')])), ('/IL5-519-Cam2_2020-06-25_000109Track1_25_ref.avi', ordereddict([('crop', '0, 351, 0, 351')])), ('/IL5-534-Cam3_2020-06-25_000106Track3_25_ref.avi', ordereddict([('crop', '0, 451, 0, 451')])), ('/TS5-544-Cam1_2020-06-25_000121Track7_50_A.avi', ordereddict([('crop', '0, 401, 0, 401')])), ('/IL5-519-Cam2_2020-06-25_000122Track9_50_A.avi', ordereddict([('crop', '0, 451, 0, 451')])), ('/IL5-534-Cam3_2020-06-25_000121Track11_50_A.avi', ordereddict([('crop', '0, 426, 0, 426')])), ('/TS5-544-Cam1_2020-06-25_000121Track7_25_A.avi', ordereddict([('crop', '0, 401, 0, 401')])), ('/IL5-519-Cam2_2020-06-25_000122Track9_25_A.avi', ordereddict([('crop', '0, 451, 0, 451')])), ('/IL5-534-Cam3_2020-06-25_000121Track11_25_A.avi', ordereddict([('crop', '0, 426, 0, 426')])), ('/TS5-544-Cam1_2020-06-25_000123Track6_50_test.avi', ordereddict([('crop', '0, 351, 0, 351')])), ('/IL5-519-Cam2_2020-06-25_000124Track9_50_test.avi', ordereddict([('crop', '0, 401, 0, 401')])), ('/IL5-534-Cam3_2020-06-25_000122Track7_50_test.avi', ordereddict([('crop', '0, 401, 0, 401')])), ('/TS5-544-Cam1_2020-06-25_000123Track6_25_ref.avi', ordereddict([('crop', '0, 351, 0, 351')])), ('/IL5-519-Cam2_2020-06-25_000124Track9_25_ref.avi', ordereddict([('crop', '0, 401, 0, 401')])), ('/IL5-534-Cam3_2020-06-25_000122Track7_25_ref.avi', ordereddict([('crop', '0, 401, 0, 401')])), ('/TS5-544-Cam1_2020-06-25_000128Track2_50_test.avi', ordereddict([('crop', '0, 451, 0, 451')])), ('/IL5-519-Cam2_2020-06-25_000130Track2_50_test.avi', ordereddict([('crop', '0, 401, 0, 401')])), ('/IL5-534-Cam3_2020-06-25_000127Track4_50_test.avi', ordereddict([('crop', '0, 401, 0, 401')])), ('/TS5-544-Cam1_2020-06-25_000128Track2_25_ref.avi', ordereddict([('crop', '0, 451, 0, 451')])), ('/IL5-519-Cam2_2020-06-25_000130Track2_25_ref.avi', ordereddict([('crop', '0, 401, 0, 401')])), ('/IL5-534-Cam3_2020-06-25_000127Track4_25_ref.avi', ordereddict([('crop', '0, 401, 0, 401')])), ('/TS5-544-Cam1_2020-06-25_000134Track5_50_test.avi', ordereddict([('crop', '0, 351, 0, 351')])), ('/IL5-519-Cam2_2020-06-25_000136Track10_50_test.avi', ordereddict([('crop', '0, 401, 0, 401')])), ('/IL5-534-Cam3_2020-06-25_000133Track9_50_test.avi', ordereddict([('crop', '0, 401, 0, 401')])), ('/TS5-544-Cam1_2020-06-25_000134Track5_25_ref.avi', ordereddict([('crop', '0, 351, 0, 351')])), ('/IL5-519-Cam2_2020-06-25_000136Track10_25_ref.avi', ordereddict([('crop', '0, 401, 0, 401')])), ('/IL5-534-Cam3_2020-06-25_000133Track9_25_ref.avi', ordereddict([('crop', '0, 401, 0, 401')])), ('/TS5-544-Cam1_2020-06-25_000140Track12_25_A.avi', ordereddict([('crop', '0, 451, 0, 451')])), ('/IL5-519-Cam2_2020-06-25_000142Track10_25_A.avi', ordereddict([('crop', '0, 451, 0, 451')])), ('/IL5-534-Cam3_2020-06-25_000139Track7_25_A.avi', ordereddict([('crop', '0, 451, 0, 451')])), ('/TS5-544-Cam1_2020-06-25_000140Track12_50_A.avi', ordereddict([('crop', '0, 451, 0, 451')])), ('/IL5-519-Cam2_2020-06-25_000142Track10_50_A.avi', ordereddict([('crop', '0, 451, 0, 451')])), ('/IL5-534-Cam3_2020-06-25_000139Track7_50_A.avi', ordereddict([('crop', '0, 451, 0, 451')])), ('/TS5-544-Cam1_2020-06-25_000154Track6_50_B.avi', ordereddict([('crop', '0, 601, 0, 601')])), ('/IL5-519-Cam2_2020-06-25_000156Track4_50_B.avi', ordereddict([('crop', '0, 501, 0, 501')])), ('/IL5-534-Cam3_2020-06-25_000153Track4_50_B.avi', ordereddict([('crop', '0, 551, 0, 551')])), ('/TS5-544-Cam1_2020-06-25_000154Track6_25_B.avi', ordereddict([('crop', '0, 601, 0, 601')])), ('/IL5-519-Cam2_2020-06-25_000156Track4_25_B.avi', ordereddict([('crop', '0, 501, 0, 501')])), ('/IL5-534-Cam3_2020-06-25_000153Track4_25_B.avi', ordereddict([('crop', '0, 551, 0, 551')])), ('/TS5-544-Cam1_2020-06-25_000089Track5_A.avi', ordereddict([('crop', '0, 301, 0, 301')])), ('/IL5-519-Cam2_2020-06-25_000088Track5_A.avi', ordereddict([('crop', '0, 351, 0, 351')])), ('/IL5-534-Cam3_2020-06-25_000084Track12_A.avi', ordereddict([('crop', '0, 301, 0, 301')])), ('/TS5-544-Cam1_2020-06-25_000090Track6_50_A.avi', ordereddict([('crop', '0, 351, 0, 351')])), ('/IL5-519-Cam2_2020-06-25_000089Track8_50_A.avi', ordereddict([('crop', '0, 351, 0, 351')])), ('/IL5-534-Cam3_2020-06-25_000085Track5_50_A.avi', ordereddict([('crop', '0, 351, 0, 351')])), ('/TS5-544-Cam1_2020-06-25_000094Track1_50_B.avi', ordereddict([('crop', '0, 301, 0, 301')])), ('/IL5-519-Cam2_2020-06-25_000093Track3_50_B.avi', ordereddict([('crop', '0, 351, 0, 351')])), ('/IL5-534-Cam3_2020-06-25_000089Track1_50_B.avi', ordereddict([('crop', '0, 351, 0, 351')])), ('/TS5-544-Cam1_2020-06-25_000095Track1_B.avi', ordereddict([('crop', '0, 401, 0, 401')])), ('/IL5-519-Cam2_2020-06-25_000094Track2_B.avi', ordereddict([('crop', '0, 401, 0, 401')])), ('/IL5-534-Cam3_2020-06-25_000090Track7_B.avi', ordereddict([('crop', '0, 421, 0, 421')])), ('/TS5-544-Cam1_2020-06-25_000097Track5_A.avi', ordereddict([('crop', '0, 351, 0, 351')])), ('/IL5-519-Cam2_2020-06-25_000096Track3_A.avi', ordereddict([('crop', '0, 401, 0, 401')])), ('/IL5-534-Cam3_2020-06-25_000092Track1_A.avi', ordereddict([('crop', '0, 421, 0, 421')])), ('/TS5-544-Cam1_2020-06-25_000098Track1_B.avi', ordereddict([('crop', '0, 351, 0, 351')])), ('/IL5-519-Cam2_2020-06-25_000097Track10_B.avi', ordereddict([('crop', '0, 351, 0, 351')])), ('/IL5-534-Cam3_2020-06-25_000093Track4_B.avi', ordereddict([('crop', '0, 351, 0, 351')])), ('/TS5-544-Cam1_2020-06-25_000099Track3_A.avi', ordereddict([('crop', '0, 301, 0, 301')])), ('/IL5-519-Cam2_2020-06-25_000099Track5_A.avi', ordereddict([('crop', '0, 351, 0, 351')])), ('/IL5-534-Cam3_2020-06-25_000095Track4_A.avi', ordereddict([('crop', '0, 401, 0, 401')])), ('/TS5-544-Cam1_2020-06-25_000099Track8_50_test.avi', ordereddict([('crop', '0, 301, 0, 301')])), ('/IL5-519-Cam2_2020-06-25_000099Track6_50_test.avi', ordereddict([('crop', '0, 351, 0, 351')])), ('/IL5-534-Cam3_2020-06-25_000095Track14_50_test.avi', ordereddict([('crop', '0, 301, 0, 301')])), ('/TS5-544-Cam1_2020-06-25_000008_cropped_B.avi', ordereddict([('crop', '0, 655, 0, 997')])), ('/IL5-519-Cam2_2020-06-25_000007_cropped_B.avi', ordereddict([('crop', '0, 521, 0, 915')])), ('/IL5-534-Cam3_2020-06-25_000007_cropped_B.avi', ordereddict([('crop', '0, 508, 0, 897')])), ('/TS5-544-Cam1_2020-06-25_000024_cropped_A.avi', ordereddict([('crop', '0, 465, 0, 924')])), ('/IL5-519-Cam2_2020-06-25_000023_cropped_A.avi', ordereddict([('crop', '0, 418, 0, 772')])), ('/IL5-534-Cam3_2020-06-25_000023_cropped_A.avi', ordereddict([('crop', '0, 425, 0, 766')])), ('/TS5-544-Cam1_2020-06-25_000032_cropped_B.avi', ordereddict([('crop', '0, 447, 0, 628')])), ('/IL5-519-Cam2_2020-06-25_000031_cropped_B.avi', ordereddict([('crop', '0, 299, 0, 550')])), ('/IL5-534-Cam3_2020-06-25_000031_cropped_B.avi', ordereddict([('crop', '0, 291, 0, 504')])), ('/TS5-544-Cam1_2020-06-25_000084_cropped_A.avi', ordereddict([('crop', '0, 368, 0, 503')])), ('/IL5-519-Cam2_2020-06-25_000083_cropped_A.avi', ordereddict([('crop', '0, 290, 0, 499')])), ('/IL5-534-Cam3_2020-06-25_000079_cropped_A.avi', ordereddict([('crop', '0, 408, 0, 520')])), ('/TS5-544-Cam1_2020-06-25_000086_cropped_B.avi', ordereddict([('crop', '0, 226, 0, 417')])), ('/IL5-519-Cam2_2020-06-25_000085_cropped_B.avi', ordereddict([('crop', '0, 229, 0, 437')])), ('/IL5-534-Cam3_2020-06-25_000081_cropped_B.avi', ordereddict([('crop', '0, 269, 0, 544')])), ('/TS5-544-Cam1_2020-06-25_000091_cropped_A.avi', ordereddict([('crop', '0, 210, 0, 385')])), ('/IL5-519-Cam2_2020-06-25_000090_cropped_A.avi', ordereddict([('crop', '0, 217, 0, 381')])), ('/IL5-534-Cam3_2020-06-25_000086_cropped_A.avi', ordereddict([('crop', '0, 219, 0, 409')])), ('/TS5-544-Cam1_2020-06-25_000135_cropped_B.avi', ordereddict([('crop', '0, 196, 0, 383')])), ('/IL5-519-Cam2_2020-06-25_000137_cropped_B.avi', ordereddict([('crop', '0, 316, 0, 340')])), ('/IL5-534-Cam3_2020-06-25_000134_cropped_B.avi', ordereddict([('crop', '0, 247, 0, 370')])), ('/TS5-544-Cam1_2020-06-25_000159_cropped_A.avi', ordereddict([('crop', '0, 334, 0, 364')])), ('/IL5-519-Cam2_2020-06-25_000161_cropped_A.avi', ordereddict([('crop', '0, 518, 0, 326')])), ('/IL5-534-Cam3_2020-06-25_000158_cropped_A.avi', ordereddict([('crop', '0, 504, 0, 373')]))])"
      ]
     },
     "execution_count": 33,
     "metadata": {},
     "output_type": "execute_result"
    }
   ],
   "source": [
    "videolist"
   ]
  },
  {
   "cell_type": "code",
   "execution_count": 34,
   "metadata": {},
   "outputs": [
    {
     "data": {
      "text/plain": [
       "('/TS5-544-Cam1_2020-06-25_000090Track6_25_A.avi',\n",
       " [('crop', '0, 351, 0, 351')])"
      ]
     },
     "execution_count": 34,
     "metadata": {},
     "output_type": "execute_result"
    }
   ],
   "source": [
    "('/TS5-544-Cam1_2020-06-25_000090Track6_25_A.avi', ([('crop', '0, 351, 0, 351')]))"
   ]
  },
  {
   "cell_type": "code",
   "execution_count": 35,
   "metadata": {},
   "outputs": [],
   "source": [
    "dummyConfig = \"/home/jonas2/DLC_files/projects/config.yaml\""
   ]
  },
  {
   "cell_type": "code",
   "execution_count": 38,
   "metadata": {},
   "outputs": [
    {
     "data": {
      "text/plain": [
       "ordereddict([('Task', 'bat_augmentation_austin_2020_bat_data'), ('scorer', 'DLC'), ('date', 'Aug18'), ('multianimalproject', False), ('identity', None), ('project_path', '/home/jonas2/DLC_files/projects/bat_augmentation_austin_2020_bat_data-DLC-2022-08-18'), ('video_sets', {'/TS5-544-Cam1_2020-06-25_000090Track6_25_A.avi': {'crop': '0, 351, 0, 351'}}), ('bodyparts', ['t3L', 'wstL', 't5L', 'elbL', 'shdL', 'ankL', 'nl', 'str', 'lmb', 'shdR', 'ankR', 'elbR', 'wstR', 't5R', 't3R', 'tail']), ('start', 0), ('stop', 1), ('numframes2pick', 20), ('skeleton', [['bodypart1', 'bodypart2'], ['objectA', 'bodypart3']]), ('skeleton_color', 'black'), ('pcutoff', 0.6), ('dotsize', 12), ('alphavalue', 0.7), ('colormap', 'rainbow'), ('TrainingFraction', [0.88]), ('iteration', 0), ('default_net_type', 'resnet_50'), ('default_augmenter', 'default'), ('snapshotindex', -1), ('batch_size', 8), ('cropping', False), ('x1', 0), ('x2', 640), ('y1', 277), ('y2', 624), ('corner2move2', [50, 50]), ('move2corner', True)])"
      ]
     },
     "execution_count": 38,
     "metadata": {},
     "output_type": "execute_result"
    }
   ],
   "source": [
    "edit_config(dummyConfig,{'video_sets':{'/TS5-544-Cam1_2020-06-25_000090Track6_25_A.avi': {'crop': '0, 351, 0, 351'}}})"
   ]
  },
  {
   "cell_type": "code",
   "execution_count": 39,
   "metadata": {},
   "outputs": [],
   "source": [
    "labeled_data_folder = \"/home/jonas2/DLC_files/projects/bat_augmentation_austin_2020_bat_data-DLC-2022-08-18/labeled-data\""
   ]
  },
  {
   "cell_type": "code",
   "execution_count": 42,
   "metadata": {},
   "outputs": [],
   "source": [
    "import os\n",
    "labeled_data_folders=os.listdir(labeled_data_folder)"
   ]
  },
  {
   "cell_type": "code",
   "execution_count": 50,
   "metadata": {},
   "outputs": [],
   "source": [
    "from PIL import Image\n",
    "images=os.listdir(os.path.join(labeled_data_folder,labeled_data_folders[0]))\n",
    "img=Image.open(os.path.join(labeled_data_folder,labeled_data_folders[0],images[3]))"
   ]
  },
  {
   "cell_type": "code",
   "execution_count": 51,
   "metadata": {},
   "outputs": [
    {
     "name": "stdout",
     "output_type": "stream",
     "text": [
      "The height of the image is:  401\n",
      "The width of the image is:  401\n"
     ]
    }
   ],
   "source": [
    "width = img.width\n",
    "height = img.height\n",
    "  \n",
    "# display width and height\n",
    "print(\"The height of the image is: \", height)\n",
    "print(\"The width of the image is: \", width)"
   ]
  },
  {
   "cell_type": "code",
   "execution_count": null,
   "metadata": {},
   "outputs": [],
   "source": []
  },
  {
   "cell_type": "code",
   "execution_count": null,
   "metadata": {},
   "outputs": [],
   "source": []
  }
 ],
 "metadata": {
  "kernelspec": {
   "display_name": "Python 3.8.13 ('dlc')",
   "language": "python",
   "name": "python3"
  },
  "language_info": {
   "codemirror_mode": {
    "name": "ipython",
    "version": 3
   },
   "file_extension": ".py",
   "mimetype": "text/x-python",
   "name": "python",
   "nbconvert_exporter": "python",
   "pygments_lexer": "ipython3",
   "version": "3.8.13"
  },
  "orig_nbformat": 4,
  "vscode": {
   "interpreter": {
    "hash": "5e602a78529ab46f96dfd3522ab6db706091619897737c95e697aa6427bc24c8"
   }
  }
 },
 "nbformat": 4,
 "nbformat_minor": 2
}
